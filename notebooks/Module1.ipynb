{
 "cells": [
  {
   "cell_type": "markdown",
   "id": "5c3def1a-8e2b-40fc-9963-44128ed7b1e2",
   "metadata": {},
   "source": [
    "## Create a generative AI runbook to resolve security findings"
   ]
  },
  {
   "cell_type": "markdown",
   "id": "2d64d4e5",
   "metadata": {},
   "source": [
    "## Module 1 - Summarize and remediate security findings"
   ]
  },
  {
   "cell_type": "markdown",
   "id": "92781f97",
   "metadata": {},
   "source": [
    "```\n",
    "// Copyright Amazon.com, Inc. or its affiliates. All Rights Reserved.\n",
    "// SPDX-License-Identifier: MIT-0\n",
    "```"
   ]
  },
  {
   "cell_type": "markdown",
   "id": "fe8f71af-bf14-4cfe-8176-1681a0ca778e",
   "metadata": {},
   "source": [
    "### Introduction\n",
    "\n",
    "In this module, you will complete the following\n",
    "- Get a finding from Security Hub\n",
    "- Use Claude 3.7 Sonnet to summarize the finding result\n",
    "- Use Claude 3.7 Sonnet to generate Python code used for finding discovery\n",
    "- Use Claude 3.7 Sonnet to generate Python code used for remediating the finding\n",
    "\n",
    "**NOTE**: You can use SHIFT + ENTER to run each of the cells in this workbook.\n",
    "\n",
    "**In the first example, get a failed finding from Security Hub for `Security groups should not allow unrestricted access to ports with high risk [EC2.19]`**"
   ]
  },
  {
   "cell_type": "markdown",
   "id": "0cee41fa-76be-4bab-ba1a-8b715c7d3570",
   "metadata": {
    "tags": []
   },
   "source": [
    "<div class=\"alert alert-block alert-info\">\n",
    "You can safely ignore `Note: you may need to restart the kernel to use updated packages.`\n",
    "</div>"
   ]
  },
  {
   "cell_type": "markdown",
   "id": "52cd05b8-8805-4076-a168-3080b4808fa9",
   "metadata": {},
   "source": [
    "***"
   ]
  },
  {
   "cell_type": "markdown",
   "id": "b1c977b7-351c-44cd-ad1c-9bef73d3157b",
   "metadata": {},
   "source": [
    "<div style='background-color:#f0f0f0; padding:10px; border-radius:5px;'>\n",
    "    <h3>Step 1: Get a finding from Security Hub</h3>\n",
    "    <p>In this step, you will get a failed finding from Security Hub. In this example, we use the AWS SDK for Python (boto3) to access the Security Hub API.</p>\n",
    "    <p>The Python function will return a JSON representation of the finding. You can also view this finding by visiting Security Hub in the AWS console.</p>\n",
    "</div>"
   ]
  },
  {
   "cell_type": "code",
   "execution_count": null,
   "id": "86b40647-9eb8-4b5c-b437-8e8af4615f2e",
   "metadata": {
    "tags": []
   },
   "outputs": [],
   "source": [
    "%pip install -qU pip boto3 awscli botocore\n",
    "import boto3\n",
    "\n",
    "sh = boto3.client('securityhub')\n",
    "\n",
    "def get_finding(finding_id):\n",
    "    response = sh.get_findings(\n",
    "        Filters={\n",
    "                'ComplianceSecurityControlId': [\n",
    "                    {\n",
    "                        'Value': finding_id,\n",
    "                        'Comparison': 'EQUALS'\n",
    "                    }\n",
    "                ],\n",
    "                'ComplianceStatus':[\n",
    "                    {\n",
    "                        'Value': 'FAILED',\n",
    "                        'Comparison': 'EQUALS'\n",
    "                    }\n",
    "                ],\n",
    "                'ResourceTags': [\n",
    "                    {\n",
    "                        'Key': 'Workshop',\n",
    "                        'Value': 'SampleSecurityGroup',\n",
    "                        'Comparison': 'EQUALS'\n",
    "                    }\n",
    "                ]\n",
    "            },\n",
    "        MaxResults=1\n",
    "\n",
    "    )\n",
    "    return response['Findings']\n",
    "\n",
    "sg_finding = get_finding(\"EC2.19\")\n",
    "security_group_name = sg_finding[0]['Resources'][0]['Details']['AwsEc2SecurityGroup']['GroupName']  \n",
    "security_group_id = sg_finding[0]['Resources'][0]['Details']['AwsEc2SecurityGroup']['GroupId'] \n",
    "print(\"^ You can safely ignore `Note: you may need to restart the kernel to use updated packages.`\\n\")\n",
    "print(sg_finding)\n",
    "print(f\"\\nSecurity group name: {security_group_name}\")\n",
    "print(f\"Security group ID: {security_group_id}\")"
   ]
  },
  {
   "cell_type": "markdown",
   "id": "220951a9-7d31-4f08-80e3-a27ceba55aa7",
   "metadata": {},
   "source": [
    "<div style='background-color:#f0f0f0; padding:10px; border-radius:5px;'>\n",
    "    <h3>Step 2: Summarize the finding using Claude 3.7 Sonnet</h3>\n",
    "    <p>In this step, you will use the boto3 converse API, to call Claude 3.7 Sonnet in Amazon Bedrock.</p>\n",
    "</div>"
   ]
  },
  {
   "cell_type": "code",
   "execution_count": null,
   "id": "8adb3c9d-eab6-4827-b1e2-79940883a2fc",
   "metadata": {
    "tags": []
   },
   "outputs": [],
   "source": [
    "import boto3\n",
    "\n",
    "modelId = \"us.anthropic.claude-3-7-sonnet-20250219-v1:0\"\n",
    "\n",
    "bedrock_client = boto3.client(service_name='bedrock-runtime')\n",
    "inference_config = {\"temperature\": 0}\n",
    "\n",
    "def get_completion(prompt, system_prompt=None):\n",
    "\n",
    "    # Create the converse method parameters\n",
    "    converse_api_params = {\n",
    "        \"modelId\": modelId,\n",
    "        \"messages\": [{\"role\": \"user\", \"content\": [{\"text\": prompt}]}],\n",
    "        \"inferenceConfig\": inference_config,\n",
    "    }\n",
    "\n",
    "    # Check if system_prompt is provided and add the system parameter to the converse_api_params dictionary\n",
    "    if system_prompt:\n",
    "        converse_api_params[\"system\"] = [{\"text\": system_prompt}]\n",
    "\n",
    "    response = bedrock_client.converse(**converse_api_params)\n",
    "\n",
    "    return response['output']['message']['content'][0]['text']\n",
    "\n",
    "print(\"Get completion function defined.\")"
   ]
  },
  {
   "cell_type": "markdown",
   "id": "58c4f030-6f4a-4a59-aa2c-07b78e4fa411",
   "metadata": {},
   "source": [
    "<div style='background-color:#f0f0f0; padding:10px; border-radius:5px;'>\n",
    "    <p>After loading the function, you can create your first prompt.</p>\n",
    "</div>"
   ]
  },
  {
   "cell_type": "code",
   "execution_count": null,
   "id": "ccbefb5a-1c2a-49fa-b4a1-b9f03c024b85",
   "metadata": {
    "tags": []
   },
   "outputs": [],
   "source": [
    "system_prompt = \"You are an AWS Security Engineer looking to improve the security posture of your organization.\"\n",
    "\n",
    "prompt = f\"\"\"\n",
    "    Review the finding and summarize actionable next steps\n",
    "\n",
    "    <finding>\n",
    "    {sg_finding}\n",
    "    </finding>\n",
    "\n",
    "\"\"\"\n",
    "\n",
    "response = get_completion(prompt, system_prompt)\n",
    "\n",
    "print(response)"
   ]
  },
  {
   "cell_type": "markdown",
   "id": "66e75245-7620-49c5-b251-9f9636027f9a",
   "metadata": {},
   "source": [
    "<div style='background-color:#f0f0f0; padding:10px; border-radius:5px;'>\n",
    "    <h3>Step 3 - Use Claude 3.7 Sonnet to generate Python code used for finding discovery</h3>\n",
    "    <p>Based on the output in step 2, Claude 3 recommends reviewing the finding and restrict inbound access to only trusted addresses or ranges.</p>\n",
    "    <p>In this step, you will write a prompt to determine where this security group is being used.</p>\n",
    "</div>"
   ]
  },
  {
   "cell_type": "code",
   "execution_count": null,
   "id": "370f1c4b-ca40-44de-bd54-83ee5bb77b99",
   "metadata": {
    "tags": []
   },
   "outputs": [],
   "source": [
    "# Create a prompt to write a Python function to determine if the security group is being used.\n",
    "\n",
    "prompt = f\"\"\"\n",
    "\n",
    "Write a simple Python function called is_security_group_in_use() to determine if {security_group_id} security group is being used by an ENI.\n",
    "\n",
    "\"\"\"\n",
    "print(get_completion(prompt))"
   ]
  },
  {
   "cell_type": "markdown",
   "id": "7902535f-fe82-4876-b3b3-21cd8899c003",
   "metadata": {},
   "source": [
    "<div style='background-color:#f0f0f0; padding:10px; border-radius:5px;'>\n",
    "    <p>Review the output. Claude 3.7 Sonnet creates a Python function that takes a security group ID, and returns true if the security group is associated to a network interface (ENI).</p>\n",
    "    <p>Create the function Claude 3.7 Sonnet generated for checking if a security group is being used.</p>\n",
    "</div>"
   ]
  },
  {
   "cell_type": "code",
   "execution_count": null,
   "id": "cb597a96-8f9e-4fc8-885e-84f66a8c8aab",
   "metadata": {
    "tags": []
   },
   "outputs": [],
   "source": [
    "# Update this cell with the function for checking if a security group is being used.\n",
    "# Note: Your function may be different. Generative AI responses are non deterministic. \n",
    "\n",
    "import boto3\n",
    "\n",
    "def is_security_group_in_use(security_group_id='sg-0b38a152debb89064', region='us-east-1'):\n",
    "    \"\"\"\n",
    "    Check if a security group is being used by any ENI.\n",
    "    \n",
    "    Args:\n",
    "        security_group_id (str): The ID of the security group to check\n",
    "        region (str): AWS region to check in\n",
    "        \n",
    "    Returns:\n",
    "        bool: True if the security group is in use, False otherwise\n",
    "    \"\"\"\n",
    "    # Initialize EC2 client\n",
    "    ec2 = boto3.client('ec2', region_name=region)\n",
    "    \n",
    "    # Describe network interfaces with the specified security group\n",
    "    response = ec2.describe_network_interfaces(\n",
    "        Filters=[\n",
    "            {\n",
    "                'Name': 'group-id',\n",
    "                'Values': [security_group_id]\n",
    "            }\n",
    "        ]\n",
    "    )\n",
    "    \n",
    "    # If any network interfaces are returned, the security group is in use\n",
    "    return len(response['NetworkInterfaces']) > 0\n",
    "\n",
    "# Example usage\n",
    "if __name__ == \"__main__\":\n",
    "    sg_id = security_group_id\n",
    "    if is_security_group_in_use(sg_id):\n",
    "        print(f\"Security group {sg_id} is in use by at least one ENI\")\n",
    "    else:\n",
    "        print(f\"Security group {sg_id} is not in use by any ENI\")\n"
   ]
  },
  {
   "cell_type": "markdown",
   "id": "8f61513b-3328-48cf-9c77-f61a8357d5f5",
   "metadata": {},
   "source": [
    "<div style='background-color:#f0f0f0; padding:10px; border-radius:5px;'>\n",
    "    <p>Claude 3 returns that the security group is not in use.</p>\n",
    "</div>"
   ]
  },
  {
   "cell_type": "markdown",
   "id": "9cc76504-51c2-42f5-9e1f-bfb6dc97f1ba",
   "metadata": {},
   "source": [
    "<div style='background-color:#f0f0f0; padding:10px; border-radius:5px;'>\n",
    "    <h3>Step 4: Use Claude 3.7 Sonnet to generate Python code used for remediating the finding</h3>\n",
    "    <p>In this step, we will ask Claude 3.7 Sonnet to generate a remediation function to update the security group that is not being used and remove port 22.</p>\n",
    "</div>"
   ]
  },
  {
   "cell_type": "markdown",
   "id": "b2628c22-7907-44b1-9b76-acea2acb8a15",
   "metadata": {
    "tags": []
   },
   "source": [
    "<div class=\"alert alert-block alert-info\">\n",
    "<b>Note:</b> This workshop example is simplified by design. In a production environement, you should follow your change control process and do further diligence before making changes.\n",
    "</div>"
   ]
  },
  {
   "cell_type": "code",
   "execution_count": null,
   "id": "46293974-fbdf-4926-b5cb-88be95cb1e9c",
   "metadata": {
    "tags": []
   },
   "outputs": [],
   "source": [
    "prompt = f\"\"\"Review the finding.\n",
    "\n",
    "<finding>\n",
    "{sg_finding}\n",
    "</finding>\n",
    "\n",
    "Create a Python function called remove_ssh_access_from_security_group to remove the rule for inbound access on port 22 (SSH) from any IP address.\n",
    "\n",
    "\"\"\"\n",
    "\n",
    "print(get_completion(prompt))"
   ]
  },
  {
   "cell_type": "markdown",
   "id": "d8be62ab-2a81-4c92-afc6-7bcac7dfd7d7",
   "metadata": {},
   "source": [
    "<div style='background-color:#f0f0f0; padding:10px; border-radius:5px;'>\n",
    "    <p>Claude 3.7 Sonnet will generate a function to remove port 22 from a security group ID. Carefully review the function. Once you are familiar with how it works, run the function to restrict access to the security group port 22.</p>\n",
    "</div>"
   ]
  },
  {
   "cell_type": "code",
   "execution_count": null,
   "id": "8f833692-a4b3-4a9d-9ff2-1ceccc54918c",
   "metadata": {
    "tags": []
   },
   "outputs": [],
   "source": [
    "# Update this cell with the function to remove port 22 from a security group ID\n",
    "# Note: Your function may be different. Generative AI responses are non deterministic. \n",
    "\n",
    "import boto3\n",
    "from botocore.exceptions import ClientError\n",
    "\n",
    "def remove_ssh_access_from_security_group(security_group_id, region='us-west-2'):\n",
    "    \"\"\"\n",
    "    Removes inbound SSH access (port 22) from any IP address (0.0.0.0/0) for the specified security group.\n",
    "    \n",
    "    Parameters:\n",
    "    security_group_id (str): The ID of the security group to modify\n",
    "    region (str): AWS region where the security group is located\n",
    "    \n",
    "    Returns:\n",
    "    dict: Response from the revoke_security_group_ingress API call\n",
    "    \"\"\"\n",
    "    try:\n",
    "        # Create EC2 client\n",
    "        ec2_client = boto3.client('ec2', region_name=region)\n",
    "        \n",
    "        # Revoke the SSH ingress rule\n",
    "        response = ec2_client.revoke_security_group_ingress(\n",
    "            GroupId=security_group_id,\n",
    "            IpPermissions=[\n",
    "                {\n",
    "                    'IpProtocol': 'tcp',\n",
    "                    'FromPort': 22,\n",
    "                    'ToPort': 22,\n",
    "                    'IpRanges': [\n",
    "                        {\n",
    "                            'CidrIp': '0.0.0.0/0'\n",
    "                        }\n",
    "                    ]\n",
    "                }\n",
    "            ]\n",
    "        )\n",
    "        \n",
    "        print(f\"Successfully removed SSH access from security group {security_group_id}\")\n",
    "        return response\n",
    "        \n",
    "    except ClientError as e:\n",
    "        print(f\"Error removing SSH access: {e}\")\n",
    "        raise\n",
    "\n",
    "# Example usage:\n",
    "remove_ssh_access_from_security_group(security_group_id)"
   ]
  },
  {
   "cell_type": "markdown",
   "id": "15562466-562c-4a39-9bb2-c7c9e64bc6cc",
   "metadata": {},
   "source": [
    "<div style='background-color:#f0f0f0; padding:10px; border-radius:5px;'>\n",
    "    <p>The rule will be removed from the security group. You can verify by checking in the AWS console.</p>\n",
    "</div>"
   ]
  }
 ],
 "metadata": {
  "kernelspec": {
   "display_name": "conda_python3",
   "language": "python",
   "name": "conda_python3"
  },
  "language_info": {
   "codemirror_mode": {
    "name": "ipython",
    "version": 3
   },
   "file_extension": ".py",
   "mimetype": "text/x-python",
   "name": "python",
   "nbconvert_exporter": "python",
   "pygments_lexer": "ipython3",
   "version": "3.10.17"
  }
 },
 "nbformat": 4,
 "nbformat_minor": 5
}
