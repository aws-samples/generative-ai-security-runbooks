{
 "cells": [
  {
   "cell_type": "markdown",
   "id": "5c3def1a-8e2b-40fc-9963-44128ed7b1e2",
   "metadata": {},
   "source": [
    "## Create a generative AI runbook to resolve security findings"
   ]
  },
  {
   "cell_type": "markdown",
   "id": "2d64d4e5",
   "metadata": {},
   "source": [
    "## Module 1"
   ]
  },
  {
   "cell_type": "markdown",
   "id": "92781f97",
   "metadata": {},
   "source": [
    "```\n",
    "// Copyright Amazon.com, Inc. or its affiliates. All Rights Reserved.\n",
    "// SPDX-License-Identifier: MIT-0\n",
    "```"
   ]
  },
  {
   "cell_type": "markdown",
   "id": "fe8f71af-bf14-4cfe-8176-1681a0ca778e",
   "metadata": {},
   "source": [
    "### Introduction\n",
    "\n",
    "In this module, you will complete the following\n",
    "- Get a finding from Security Hub\n",
    "- Use Claude 3 to summarize the finding result\n",
    "- Use Claude 3 to generate Python code used for finding discovery\n",
    "- Use Claude 3 to generate Python code used for remediating the finding\n",
    "\n",
    "**NOTE**: You can use SHIFT + ENTER to run each of the cells in this workbook.\n",
    "\n",
    "**In the first example, get a failed finding from Security Hub for `Security groups should not allow unrestricted access to ports with high risk [EC2.19]`**"
   ]
  },
  {
   "cell_type": "markdown",
   "id": "b1c977b7-351c-44cd-ad1c-9bef73d3157b",
   "metadata": {},
   "source": [
    "#### Step 1: Get a finding from Security Hub\n",
    "\n",
    "In this step, you will get a failed finding from Security Hub. In this example, we use the AWS SDK for Python (boto3) to access the Security Hub API.\n",
    "\n",
    "The Python function will return a JSON representation of the finding. You can also view this finding by visiting Security Hub in the AWS console.\n",
    "\n",
    "You can safely ignore `Note: you may need to restart the kernel to use updated packages.`"
   ]
  },
  {
   "cell_type": "code",
   "execution_count": null,
   "id": "86b40647-9eb8-4b5c-b437-8e8af4615f2e",
   "metadata": {
    "tags": []
   },
   "outputs": [],
   "source": [
    "%pip install -qU pip boto3 awscli botocore\n",
    "import boto3\n",
    "\n",
    "sh = boto3.client('securityhub')\n",
    "\n",
    "def get_finding(finding_id):\n",
    "    response = sh.get_findings(\n",
    "        Filters={\n",
    "                'ComplianceSecurityControlId': [\n",
    "                    {\n",
    "                        'Value': finding_id,\n",
    "                        'Comparison': 'EQUALS'\n",
    "                    }\n",
    "                ],\n",
    "                'ComplianceStatus':[\n",
    "                    {\n",
    "                        'Value': 'FAILED',\n",
    "                        'Comparison': 'EQUALS'\n",
    "                    }\n",
    "                ],\n",
    "                'ResourceTags': [\n",
    "                    {\n",
    "                        'Key': 'Workshop',\n",
    "                        'Value': 'SampleSecurityGroup',\n",
    "                        'Comparison': 'EQUALS'\n",
    "                    }\n",
    "                ]\n",
    "            },\n",
    "        MaxResults=1\n",
    "\n",
    "    )\n",
    "    return response['Findings']\n",
    "\n",
    "sg_finding = get_finding(\"EC2.19\")\n",
    "print(sg_finding)"
   ]
  },
  {
   "cell_type": "markdown",
   "id": "220951a9-7d31-4f08-80e3-a27ceba55aa7",
   "metadata": {},
   "source": [
    "#### Step 2: Summarize the finding using Claude 3\n",
    "\n",
    "In this step, you will use the Anthropic SDK, to access Claude 3 through Amazon Bedrock."
   ]
  },
  {
   "cell_type": "code",
   "execution_count": null,
   "id": "8adb3c9d-eab6-4827-b1e2-79940883a2fc",
   "metadata": {
    "tags": []
   },
   "outputs": [],
   "source": [
    "import boto3\n",
    "\n",
    "modelId = \"anthropic.claude-3-sonnet-20240229-v1:0\"\n",
    "\n",
    "bedrock_client = boto3.client(service_name='bedrock-runtime')\n",
    "inference_config = {\"temperature\": 0}\n",
    "\n",
    "def get_completion(prompt, system_prompt=None):\n",
    "\n",
    "    # Create the converse method parameters\n",
    "    converse_api_params = {\n",
    "        \"modelId\": modelId,\n",
    "        \"messages\": [{\"role\": \"user\", \"content\": [{\"text\": prompt}]}],\n",
    "        \"inferenceConfig\": inference_config,\n",
    "    }\n",
    "\n",
    "    # Check if system_prompt is provided and add the system parameter to the converse_api_params dictionary\n",
    "    if system_prompt:\n",
    "        converse_api_params[\"system\"] = [{\"text\": system_prompt}]\n",
    "\n",
    "    response = bedrock_client.converse(**converse_api_params)\n",
    "\n",
    "    return response['output']['message']['content'][0]['text']"
   ]
  },
  {
   "cell_type": "markdown",
   "id": "58c4f030-6f4a-4a59-aa2c-07b78e4fa411",
   "metadata": {},
   "source": [
    "After loading the function, you can create your first prompt."
   ]
  },
  {
   "cell_type": "code",
   "execution_count": null,
   "id": "ccbefb5a-1c2a-49fa-b4a1-b9f03c024b85",
   "metadata": {
    "tags": []
   },
   "outputs": [],
   "source": [
    "system_prompt = \"You are an AWS Security Engineer looking to improve the security posture of your organization.\"\n",
    "\n",
    "prompt = f\"\"\"\n",
    "    Review the finding and summarize actionable next steps\n",
    "\n",
    "    <finding>\n",
    "    {sg_finding}\n",
    "    </finding>\n",
    "\n",
    "\"\"\"\n",
    "\n",
    "response = get_completion(prompt, system_prompt)\n",
    "\n",
    "print(response)"
   ]
  },
  {
   "cell_type": "markdown",
   "id": "66e75245-7620-49c5-b251-9f9636027f9a",
   "metadata": {},
   "source": [
    "#### Step 3 - Use Claude 3 to generate Python code used for finding discovery\n",
    "\n",
    "Based on the output in step 2, Claude 3 recommends reviewing the finding and restrict inbound access to only trusted addresses or ranges. \n",
    "\n",
    "In this step, you will write a prompt to determine where this security group is being used.\n",
    "\n",
    "`Ensure you update the prompt with the Security Group ID of the finding in step 2`"
   ]
  },
  {
   "cell_type": "code",
   "execution_count": null,
   "id": "370f1c4b-ca40-44de-bd54-83ee5bb77b99",
   "metadata": {
    "tags": []
   },
   "outputs": [],
   "source": [
    "# Update the prompt with the security group ID of your finding.\n",
    "prompt = f\"\"\"\n",
    "\n",
    "Write a simple Python function to determine if sg-0f1ec3a90fa6ae3be security group is being used by an ENI.\n",
    "\n",
    "\"\"\"\n",
    "print(get_completion(prompt))"
   ]
  },
  {
   "cell_type": "markdown",
   "id": "7902535f-fe82-4876-b3b3-21cd8899c003",
   "metadata": {},
   "source": [
    "Review the output. Claude 3 creates a Python function that takes a security group ID, and returns true if the security group is associated to a network interface (ENI). \n",
    "\n",
    "Create the function Claude 3 generated for checking if a security group is being used.\n",
    "\n",
    "`Note: Make sure you update security_group_id with the security group output in step 2.`"
   ]
  },
  {
   "cell_type": "code",
   "execution_count": null,
   "id": "cb597a96-8f9e-4fc8-885e-84f66a8c8aab",
   "metadata": {
    "tags": []
   },
   "outputs": [],
   "source": [
    "import boto3\n",
    "\n",
    "def is_security_group_used_by_eni(security_group_id):\n",
    "    \"\"\"\n",
    "    Checks if a given security group is being used by an Elastic Network Interface (ENI).\n",
    "\n",
    "    Args:\n",
    "        security_group_id (str): The ID of the security group to check.\n",
    "\n",
    "    Returns:\n",
    "        bool: True if the security group is being used by an ENI, False otherwise.\n",
    "    \"\"\"\n",
    "    ec2 = boto3.client('ec2')\n",
    "\n",
    "    # Get all network interfaces\n",
    "    network_interfaces = ec2.describe_network_interfaces()['NetworkInterfaces']\n",
    "\n",
    "    # Check if the security group is associated with any network interface\n",
    "    for network_interface in network_interfaces:\n",
    "        groups = [group['GroupId'] for group in network_interface['Groups']]\n",
    "        if security_group_id in groups:\n",
    "            return True\n",
    "\n",
    "    return False\n",
    "\n",
    "######\n",
    "### Update security_group_id = \"XXX\" with the security group from step 2 output.\n",
    "######\n",
    "\n",
    "security_group_id = 'XXX'\n",
    "is_used = is_security_group_used_by_eni(security_group_id)\n",
    "print(f\"Security group {security_group_id} is {'being used' if is_used else 'not being used'} by an ENI.\")\n"
   ]
  },
  {
   "cell_type": "markdown",
   "id": "8f61513b-3328-48cf-9c77-f61a8357d5f5",
   "metadata": {},
   "source": [
    "Claude 3 returns that the security group is not in use. To test if the function is working properly, reviewing another security group that is attached to an ENI. In this workshop, we have provisioned a security group with the name `Group2` for testing. Run the following function to get the security group ID."
   ]
  },
  {
   "cell_type": "code",
   "execution_count": null,
   "id": "8a4b72df-3874-459e-98b5-e90bd1b4adef",
   "metadata": {
    "tags": []
   },
   "outputs": [],
   "source": [
    "#This function takes the name of the security group and returns the security group ID\n",
    "\n",
    "import boto3\n",
    "ec2 = boto3.client('ec2')\n",
    "security_group_name = 'Group2'\n",
    "response = ec2.describe_security_groups(\n",
    "    Filters=[\n",
    "        {\n",
    "            'Name': 'group-name',\n",
    "            'Values': [security_group_name]\n",
    "        }\n",
    "    ]\n",
    ")\n",
    "\n",
    "group2_id = response['SecurityGroups'][0]['GroupId']\n",
    "print(group2_id)"
   ]
  },
  {
   "cell_type": "markdown",
   "id": "45073cd4-c510-448c-9a40-98529dead32f",
   "metadata": {},
   "source": [
    "With the security group ID for Group2, use the function to see if it is in use."
   ]
  },
  {
   "cell_type": "code",
   "execution_count": null,
   "id": "18527963-972c-4295-91fb-acd200642bec",
   "metadata": {
    "tags": []
   },
   "outputs": [],
   "source": [
    "is_used = is_security_group_used_by_eni(group2_id)\n",
    "print(f\"Security group {group2_id} is {'being used' if is_used else 'not being used'} by an ENI.\")"
   ]
  },
  {
   "cell_type": "markdown",
   "id": "9cc76504-51c2-42f5-9e1f-bfb6dc97f1ba",
   "metadata": {},
   "source": [
    "Claude 3 returns that the security group is in use. Group2 findings, may require more research to understand how it is being used before making changes. **Note**: This workshop example is simplified by design. In a production environement, you should follow your change control process and do further diligence before making changes.\n",
    "\n",
    "#### Step 4: Use Claude 3 to generate Python code used for remediating the finding\n",
    "\n",
    "In this step, we will ask Claude 3 to generate remediation function to update the security group that is not being used and remove port 22."
   ]
  },
  {
   "cell_type": "code",
   "execution_count": null,
   "id": "46293974-fbdf-4926-b5cb-88be95cb1e9c",
   "metadata": {
    "tags": []
   },
   "outputs": [],
   "source": [
    "prompt = f\"\"\"Review the finding.\n",
    "\n",
    "<finding>\n",
    "{sg_finding}\n",
    "</finding>\n",
    "\n",
    "Create a Python function called remove_ssh_access_from_security_group to remove the rule for inbound access on port 22 (SSH) from any IP address.\n",
    "\n",
    "You should only output the Python.\"\"\"\n",
    "\n",
    "print(get_completion(prompt))"
   ]
  },
  {
   "cell_type": "markdown",
   "id": "d8be62ab-2a81-4c92-afc6-7bcac7dfd7d7",
   "metadata": {},
   "source": [
    "Claude 3 will generate a function to remove port 22 from a security group ID. Carefully review the function. Once you are familiar with how it works, run the function to restrict access to the security group port 22."
   ]
  },
  {
   "cell_type": "code",
   "execution_count": null,
   "id": "8f833692-a4b3-4a9d-9ff2-1ceccc54918c",
   "metadata": {
    "tags": []
   },
   "outputs": [],
   "source": [
    "import boto3\n",
    "\n",
    "def remove_ssh_access_from_security_group(security_group_id):\n",
    "    ec2 = boto3.client('ec2')\n",
    "\n",
    "    # Get the security group details\n",
    "    security_group = ec2.describe_security_groups(GroupIds=[security_group_id])['SecurityGroups'][0]\n",
    "\n",
    "    # Find the ingress rule for SSH from 0.0.0.0/0\n",
    "    ssh_rule = next((rule for rule in security_group['IpPermissions'] if rule['FromPort'] == 22 and rule['ToPort'] == 22 and '0.0.0.0/0' in [ip_range['CidrIp'] for ip_range in rule['IpRanges']]), None)\n",
    "\n",
    "    if ssh_rule:\n",
    "        # Remove the SSH rule\n",
    "        ec2.revoke_security_group_ingress(\n",
    "            GroupId=security_group_id,\n",
    "            IpPermissions=[{\n",
    "                'IpProtocol': ssh_rule['IpProtocol'],\n",
    "                'FromPort': ssh_rule['FromPort'],\n",
    "                'ToPort': ssh_rule['ToPort'],\n",
    "                'IpRanges': [{'CidrIp': '0.0.0.0/0'}]\n",
    "            }]\n",
    "        )\n",
    "        print(f\"Removed SSH access from 0.0.0.0/0 for security group {security_group_id}\")\n",
    "    else:\n",
    "        print(f\"No SSH access from 0.0.0.0/0 found for security group {security_group_id}\")\n",
    "\n",
    "remove_ssh_access_from_security_group(security_group_id)"
   ]
  },
  {
   "cell_type": "markdown",
   "id": "15562466-562c-4a39-9bb2-c7c9e64bc6cc",
   "metadata": {},
   "source": [
    "The rule will be removed from the security group. You can verify, by running the function again, or checking in the AWS console."
   ]
  }
 ],
 "metadata": {
  "kernelspec": {
   "display_name": "conda_python3",
   "language": "python",
   "name": "conda_python3"
  },
  "language_info": {
   "codemirror_mode": {
    "name": "ipython",
    "version": 3
   },
   "file_extension": ".py",
   "mimetype": "text/x-python",
   "name": "python",
   "nbconvert_exporter": "python",
   "pygments_lexer": "ipython3",
   "version": "3.10.13"
  }
 },
 "nbformat": 4,
 "nbformat_minor": 5
}
