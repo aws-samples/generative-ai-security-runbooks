{
 "cells": [
  {
   "cell_type": "markdown",
   "id": "5c3def1a-8e2b-40fc-9963-44128ed7b1e2",
   "metadata": {},
   "source": [
    "## Create a generative AI runbook to resolve security findings"
   ]
  },
  {
   "cell_type": "markdown",
   "id": "e3661531-5506-41c5-81a9-400ce0774c22",
   "metadata": {},
   "source": [
    "## Module 3"
   ]
  },
  {
   "cell_type": "markdown",
   "id": "2baf66c4",
   "metadata": {},
   "source": [
    "```\n",
    "// Copyright Amazon.com, Inc. or its affiliates. All Rights Reserved.\n",
    "// SPDX-License-Identifier: MIT-0\n",
    "```"
   ]
  },
  {
   "cell_type": "markdown",
   "id": "fe8f71af-bf14-4cfe-8176-1681a0ca778e",
   "metadata": {},
   "source": [
    "### Introduction\n",
    "\n",
    "In this module, you will practice what you learned from Module1 to complete the following\n",
    "- Get a finding from Security Hub\n",
    "- Use Claude 3 to summarize the finding result\n",
    "- Use Claude 3 to generate Python code used for remediating the finding\n",
    "- Verify the finding is resolved.\n",
    "\n",
    "**NOTE**: You can use SHIFT + ENTER to run each of the cells in this workbook.\n",
    "\n",
    "**In this example, you will get a failed finding from Security Hub for `GuardDuty should be enabled [GuardDuty.1]`**"
   ]
  },
  {
   "cell_type": "markdown",
   "id": "b1c977b7-351c-44cd-ad1c-9bef73d3157b",
   "metadata": {},
   "source": [
    "#### Step 1: Get a finding from Security Hub\n",
    "\n",
    "In this step, you will get a failed finding from Security Hub. In this example, we use the AWS SDK for Python (boto3) to access the Security Hub API.\n",
    "\n",
    "The Python function will return a JSON representation of the finding. You can also view this finding by visiting Security Hub in the AWS console.\n",
    "\n",
    "You can safely ignore `Note: you may need to restart the kernel to use updated packages.`"
   ]
  },
  {
   "cell_type": "code",
   "execution_count": null,
   "id": "86b40647-9eb8-4b5c-b437-8e8af4615f2e",
   "metadata": {
    "tags": []
   },
   "outputs": [],
   "source": [
    "# Python code from Module 1. Update to seach for `GuardDuty should be enabled [GuardDuty.1]`\n",
    "%pip install -qU pip boto3 awscli botocore\n",
    "\n",
    "import boto3\n",
    "\n",
    "sh = boto3.client('securityhub')\n",
    "\n",
    "def get_finding(finding_id):\n",
    "    response = sh.get_findings(\n",
    "        Filters={\n",
    "                'ComplianceSecurityControlId': [\n",
    "                    {\n",
    "                        'Value': finding_id,\n",
    "                        'Comparison': 'EQUALS'\n",
    "                    }\n",
    "                ],\n",
    "                'ComplianceStatus':[\n",
    "                    {\n",
    "                        'Value': 'FAILED',\n",
    "                        'Comparison': 'EQUALS'\n",
    "                    }\n",
    "                ]\n",
    "            },\n",
    "        MaxResults=1\n",
    "    \n",
    "    )\n",
    "    return response['Findings']\n",
    "\n",
    "######\n",
    "### Update get_finding(\"XXX\") with GuardDuty.1\n",
    "######\n",
    "\n",
    "sg_finding = get_finding(\"XXX\")\n",
    "print(sg_finding)"
   ]
  },
  {
   "cell_type": "markdown",
   "id": "220951a9-7d31-4f08-80e3-a27ceba55aa7",
   "metadata": {},
   "source": [
    "#### Step 2: Summarize the finding using Claude 3\n",
    "\n",
    "In this step, you will use the Anthropic SDK, to access Claude 3 through Amazon Bedrock."
   ]
  },
  {
   "cell_type": "code",
   "execution_count": null,
   "id": "8adb3c9d-eab6-4827-b1e2-79940883a2fc",
   "metadata": {
    "tags": []
   },
   "outputs": [],
   "source": [
    "import boto3\n",
    "\n",
    "modelId = \"anthropic.claude-3-sonnet-20240229-v1:0\"\n",
    "\n",
    "bedrock_client = boto3.client(service_name='bedrock-runtime')\n",
    "inference_config = {\"temperature\": 0}\n",
    "\n",
    "def get_completion(prompt, system_prompt=None):\n",
    "\n",
    "    # Create the converse method parameters\n",
    "    converse_api_params = {\n",
    "        \"modelId\": modelId,\n",
    "        \"messages\": [{\"role\": \"user\", \"content\": [{\"text\": prompt}]}],\n",
    "        \"inferenceConfig\": inference_config,\n",
    "    }\n",
    "\n",
    "    # Check if system_prompt is provided and add the system parameter to the converse_api_params dictionary\n",
    "    if system_prompt:\n",
    "        converse_api_params[\"system\"] = [{\"text\": system_prompt}]\n",
    "\n",
    "    response = bedrock_client.converse(**converse_api_params)\n",
    "\n",
    "    return response['output']['message']['content'][0]['text']"
   ]
  },
  {
   "cell_type": "markdown",
   "id": "58c4f030-6f4a-4a59-aa2c-07b78e4fa411",
   "metadata": {},
   "source": [
    "After loading the function, you can create your first prompt."
   ]
  },
  {
   "cell_type": "code",
   "execution_count": null,
   "id": "ccbefb5a-1c2a-49fa-b4a1-b9f03c024b85",
   "metadata": {
    "tags": []
   },
   "outputs": [],
   "source": [
    "# For the system variable, enter a prompt to set the context\"\n",
    "# For the prompt variable, update to ask Claude 3 to summarize the finding.\n",
    "\n",
    "\n",
    "system = \"You are a...\"\n",
    "prompt = f\"\"\"\n",
    "Review the finding and ...\n",
    "\n",
    "<finding>\n",
    "{sg_finding}\n",
    "</finding>\n",
    "\n",
    "\"\"\"\n",
    "\n",
    "print(get_completion(prompt,system))"
   ]
  },
  {
   "cell_type": "markdown",
   "id": "66e75245-7620-49c5-b251-9f9636027f9a",
   "metadata": {},
   "source": [
    "#### Step 3 - Use Claude 3 to generate Python code used for finding discovery\n",
    "\n",
    "Based on the output in step 2, Claude 3 recommends enabling Amazon GuardDuty\n",
    "\n",
    "In this step, we will ask Claude 3 to generate remediation function to enable GuardDuty"
   ]
  },
  {
   "cell_type": "code",
   "execution_count": null,
   "id": "46293974-fbdf-4926-b5cb-88be95cb1e9c",
   "metadata": {
    "tags": []
   },
   "outputs": [],
   "source": [
    "# Update the prompt to ask Claude 3 to generate a function to enable GuardDuty\n",
    "\n",
    "prompt = f\"\"\"Review the finding.\n",
    "\n",
    "<finding>\n",
    "{sg_finding}\n",
    "</finding>\n",
    "\n",
    "Create a Python function to...\n",
    "\n",
    "\"\"\"\n",
    "\n",
    "print(get_completion(prompt, system_prompt=system))"
   ]
  },
  {
   "cell_type": "markdown",
   "id": "ea972d9f-2677-47fc-8062-a822c2ab9818",
   "metadata": {
    "tags": []
   },
   "source": [
    "Carefully review the output function. When you understand how it works, paste it into the next cell and run it. Depending on the prompt used, you may need to call the function as well. \n",
    "\n",
    "For example, add the function name and the Region to the bottom.\n",
    "\n",
    "`enable_guardduty('us-west-2')`"
   ]
  },
  {
   "cell_type": "code",
   "execution_count": null,
   "id": "8f833692-a4b3-4a9d-9ff2-1ceccc54918c",
   "metadata": {
    "tags": []
   },
   "outputs": [],
   "source": [
    "import boto3\n",
    "\n",
    "#....\n",
    "\n",
    "enable_guardduty('us-west-2')"
   ]
  },
  {
   "cell_type": "markdown",
   "id": "3a00e62a-a2bd-4f0c-81fc-5b43c2431a6a",
   "metadata": {},
   "source": [
    "### Step 4: Verify GuardDuty is enabled.\n",
    "\n",
    "To verify if GuardDuty is enabled, navigate to the console.\n",
    "https://console.aws.amazon.com/guardduty/"
   ]
  }
 ],
 "metadata": {
  "kernelspec": {
   "display_name": "conda_python3",
   "language": "python",
   "name": "conda_python3"
  },
  "language_info": {
   "codemirror_mode": {
    "name": "ipython",
    "version": 3
   },
   "file_extension": ".py",
   "mimetype": "text/x-python",
   "name": "python",
   "nbconvert_exporter": "python",
   "pygments_lexer": "ipython3",
   "version": "3.10.13"
  }
 },
 "nbformat": 4,
 "nbformat_minor": 5
}
