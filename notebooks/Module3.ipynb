{
 "cells": [
  {
   "cell_type": "markdown",
   "id": "5c3def1a-8e2b-40fc-9963-44128ed7b1e2",
   "metadata": {},
   "source": [
    "## Create a generative AI runbook to resolve security findings"
   ]
  },
  {
   "cell_type": "markdown",
   "id": "e3661531-5506-41c5-81a9-400ce0774c22",
   "metadata": {},
   "source": [
    "## Module 3 - Tool use with human-in-the-loop"
   ]
  },
  {
   "cell_type": "markdown",
   "id": "2baf66c4",
   "metadata": {},
   "source": [
    "```\n",
    "// Copyright Amazon.com, Inc. or its affiliates. All Rights Reserved.\n",
    "// SPDX-License-Identifier: MIT-0\n",
    "```"
   ]
  },
  {
   "cell_type": "markdown",
   "id": "fe8f71af-bf14-4cfe-8176-1681a0ca778e",
   "metadata": {},
   "source": [
    "### Introduction\n",
    "\n",
    "In this module, you will build on what you learned from Module 1 and Module 2 to complete the following\n",
    "- Get a finding from Security Hub\n",
    "- Use Claude 3.7 Sonnet with **Tool Use** and **Human Approval** to remediate the finding\n",
    "- Verify the finding is resolved.\n",
    "\n",
    "**NOTE**: You can use SHIFT + ENTER to run each of the cells in this workbook.\n",
    "\n",
    "**In this example, you will get a failed finding from Security Hub for `GuardDuty should be enabled [GuardDuty.1]`**"
   ]
  },
  {
   "cell_type": "markdown",
   "id": "9e174a48-596a-4a34-9cdf-5104905ab1de",
   "metadata": {
    "tags": []
   },
   "source": [
    "<div class=\"alert alert-block alert-info\">\n",
    "You can safely ignore `Note: you may need to restart the kernel to use updated packages.`\n",
    "</div>"
   ]
  },
  {
   "cell_type": "markdown",
   "id": "4724519e-9ea6-4b6f-b51f-ae699e9af694",
   "metadata": {
    "tags": []
   },
   "source": [
    "***"
   ]
  },
  {
   "cell_type": "markdown",
   "id": "b1c977b7-351c-44cd-ad1c-9bef73d3157b",
   "metadata": {},
   "source": [
    "<div style='background-color:#f0f0f0; padding:10px; border-radius:5px;'>\n",
    "    <h3>Step 1: Get a finding from Security Hub</h3>\n",
    "    <p>In this step, you will get a failed finding from Security Hub. In this example, we use the AWS SDK for Python (boto3) to access the Security Hub API.</p>\n",
    "    <p>The Python function will return a JSON representation of the finding. You can also view this finding by visiting Security Hub in the AWS console.</p>\n",
    "</div>"
   ]
  },
  {
   "cell_type": "code",
   "execution_count": null,
   "id": "86b40647-9eb8-4b5c-b437-8e8af4615f2e",
   "metadata": {
    "tags": []
   },
   "outputs": [],
   "source": [
    "# Python code from Module 1. Update to search for `GuardDuty should be enabled [GuardDuty.1]`\n",
    "%pip install -qU pip boto3 awscli botocore\n",
    "\n",
    "import boto3\n",
    "import json\n",
    "\n",
    "sh = boto3.client('securityhub')\n",
    "\n",
    "def get_finding(finding_id):\n",
    "    response = sh.get_findings(\n",
    "        Filters={\n",
    "                'ComplianceSecurityControlId': [\n",
    "                    {\n",
    "                        'Value': finding_id,\n",
    "                        'Comparison': 'EQUALS'\n",
    "                    }\n",
    "                ],\n",
    "                'ComplianceStatus':[\n",
    "                    {\n",
    "                        'Value': 'FAILED',\n",
    "                        'Comparison': 'EQUALS'\n",
    "                    }\n",
    "                ]\n",
    "            },\n",
    "        MaxResults=1\n",
    "    \n",
    "    )\n",
    "    return response['Findings']\n",
    "\n",
    "######\n",
    "### Update get_finding(\"XXX\") with GuardDuty.1\n",
    "######\n",
    "\n",
    "guardduty_finding = get_finding(\"GuardDuty.1\")\n",
    "guardduty_finding_formatted = json.dumps(guardduty_finding, indent=2)\n",
    "print(\"^ You can safely ignore `Note: you may need to restart the kernel to use updated packages.`\\n\")\n",
    "print(guardduty_finding_formatted)"
   ]
  },
  {
   "cell_type": "markdown",
   "id": "220951a9-7d31-4f08-80e3-a27ceba55aa7",
   "metadata": {},
   "source": [
    "<div style='background-color:#f0f0f0; padding:10px; border-radius:5px;'>\n",
    "    <h3>Step 2: Create a function to call Claude 3.7 Sonnet in Amazon Bedrock</h3>\n",
    "    <p>In this step, you will use the boto3 converse API, to call Claude 3.7 Sonnet in Amazon Bedrock.</p>\n",
    "</div>"
   ]
  },
  {
   "cell_type": "code",
   "execution_count": null,
   "id": "8adb3c9d-eab6-4827-b1e2-79940883a2fc",
   "metadata": {
    "tags": []
   },
   "outputs": [],
   "source": [
    "import boto3\n",
    "\n",
    "modelId = \"us.anthropic.claude-3-7-sonnet-20250219-v1:0\"\n",
    "\n",
    "bedrock_client = boto3.client(service_name='bedrock-runtime')\n",
    "inference_config = {\"temperature\": 0}\n",
    "\n",
    "def get_completion(messages, system_prompt=None, toolConfig=None):\n",
    "\n",
    "    # Create the converse method parameters\n",
    "    converse_api_params = {\n",
    "        \"modelId\": modelId,\n",
    "        \"messages\": messages,\n",
    "        \"inferenceConfig\": inference_config,\n",
    "    }\n",
    "\n",
    "    if system_prompt:\n",
    "        converse_api_params[\"system\"] = [{\"text\": system_prompt}]\n",
    "\n",
    "    # Check if tool is provided and add to converse_api_params\n",
    "    if toolConfig:\n",
    "        converse_api_params[\"toolConfig\"] = toolConfig\n",
    "\n",
    "    response = bedrock_client.converse(**converse_api_params)\n",
    "\n",
    "    return response\n",
    "\n",
    "print(\"Get completion function defined.\")"
   ]
  },
  {
   "cell_type": "markdown",
   "id": "be52eefd-cdd5-4e33-9c1c-8fb10b4276db",
   "metadata": {},
   "source": [
    "<div style='background-color:#f0f0f0; padding:10px; border-radius:5px;'>\n",
    "    <h3>Step 3: Define a tool for Claude 3.7 Sonnet</h3>\n",
    "    <p>In this step, you define a function is called `enable_guardduty` that takes a single parameter for Region.</p>\n",
    "    <p>Then we define the actual Python function that runs when the tool is called (after approval).</p>\n",
    "</div>"
   ]
  },
  {
   "cell_type": "code",
   "execution_count": null,
   "id": "11484039-0674-4a40-a391-60e4061875ca",
   "metadata": {
    "tags": []
   },
   "outputs": [],
   "source": [
    "# -- Ask for user confirmation before running a tool\n",
    "def confirm_tool_use(tool_name):\n",
    "    \"\"\"Ask for user confirmation before using a tool.\n",
    "    \"\"\"\n",
    "\n",
    "    print(f\"\\n⚠️  Claude wants to use the following tool:\")\n",
    "    print(f\"    {tool_name}\")\n",
    "    while True:\n",
    "        response = input(\"\\nDo you want to allow this command? (yes/no): \").strip().lower()\n",
    "        if response in ['yes', 'y']:\n",
    "            return True\n",
    "        elif response in ['no', 'n']:\n",
    "            return False\n",
    "        else:\n",
    "            print(\"Please answer with 'yes' or 'no'.\")\n",
    "\n",
    "# --- Define the Tool Specification --- \n",
    "guardduty_tool_config = {\n",
    "    \"tools\": [\n",
    "        {\n",
    "          \"toolSpec\": {\n",
    "            \"name\": \"enable_guardduty\",\n",
    "            \"description\": \"Enables Amazon GuardDuty threat detection service in a specified AWS region. Use this if a finding indicates GuardDuty is disabled.\",\n",
    "            \"inputSchema\": {\n",
    "              \"json\": {\n",
    "                \"type\": \"object\",\n",
    "                \"properties\": {\n",
    "                  \"region_name\": {\n",
    "                    \"type\": \"string\",\n",
    "                    \"description\": \"The AWS region where GuardDuty should be enabled (e.g., 'us-west-2', 'eu-central-1').\"\n",
    "                  }\n",
    "                },\n",
    "                \"required\": [\"region_name\"]\n",
    "              }\n",
    "            }\n",
    "          }\n",
    "        }\n",
    "     ]\n",
    "}\n",
    "\n",
    "def enable_guardduty(region_name):\n",
    "    \"\"\"Attempts to enable GuardDuty in the specified region.\"\"\"\n",
    "    \n",
    "    # Before doing anything, get explicit permission from the user\n",
    "    if not confirm_tool_use(\"enable_guardduty\"):\n",
    "        result_message = \"Command execution denied by user.\" \n",
    "        return result_message\n",
    "    \n",
    "    try:\n",
    "        print(f\"Executing: Attempting to enable GuardDuty in region: {region_name}...\")\n",
    "        gd = boto3.client('guardduty', region_name=region_name)\n",
    "        detectors = gd.list_detectors()\n",
    "        \n",
    "        if not detectors['DetectorIds']:\n",
    "             print(f\"No GuardDuty detector found in {region_name}. Creating a new one...\")\n",
    "             response = gd.create_detector(Enable=True)\n",
    "             detector_id = response['DetectorId']\n",
    "             result_message = f\"Successfully created and enabled GuardDuty detector {detector_id} in {region_name}.\"\n",
    "             print(result_message)\n",
    "             return result_message\n",
    "        else:\n",
    "             detector_id = detectors['DetectorIds'][0]\n",
    "             detector_status = gd.get_detector(DetectorId=detector_id)\n",
    "             if detector_status['Status'] == 'ENABLED':\n",
    "                   result_message = f\"GuardDuty detector {detector_id} is already enabled in {region_name}.\"\n",
    "                   print(result_message)\n",
    "                   return result_message\n",
    "             else:\n",
    "                   print(f\"Found existing GuardDuty detector {detector_id}. Enabling it now...\")\n",
    "                   gd.update_detector(DetectorId=detector_id, Enable=True)\n",
    "                   result_message = f\"Successfully enabled GuardDuty detector {detector_id} in {region_name}.\"\n",
    "                   print(result_message)\n",
    "                   return result_message\n",
    "                   \n",
    "    except boto3.exceptions.Boto3Error as e:\n",
    "        error_message = f\"AWS API Error enabling GuardDuty in {region_name}: {e}\"\n",
    "        print(error_message)\n",
    "        return error_message # Return error message for LLM context\n",
    "    except Exception as e:\n",
    "        error_message = f\"An unexpected error occurred while enabling GuardDuty: {e}\"\n",
    "        print(error_message)\n",
    "        return error_message # Return error message for LLM context\n",
    "\n",
    "# Dictionary mapping tool names to actual functions\n",
    "available_tools = {\n",
    "    \"enable_guardduty\": enable_guardduty\n",
    "}\n",
    "\n",
    "print(\"GuardDuty tool and function defined.\")"
   ]
  },
  {
   "cell_type": "markdown",
   "id": "66e75245-7620-49c5-b251-9f9636027f9a",
   "metadata": {},
   "source": [
    "<div style='background-color:#f0f0f0; padding:10px; border-radius:5px;'>\n",
    "    <h3>Step 4 - Update code to use Claude 3.7 Sonnet output as tool input</h3>\n",
    "    <p>In this step, you will call Claude 3.7 Sonnet and get a response that a tool is requested.</p>\n",
    "    <p>Claude 3.7 Sonnet can't use the tools directly, but we can write code that will look for the request, and pass the tool input to our tool function.</p>\n",
    "</div>\n"
   ]
  },
  {
   "cell_type": "code",
   "execution_count": null,
   "id": "46293974-fbdf-4926-b5cb-88be95cb1e9c",
   "metadata": {
    "tags": []
   },
   "outputs": [],
   "source": [
    "# For the system variable, enter a prompt to set the context\"\n",
    "# For the prompt variable, update to ask Claude 3 to summarize the finding.\n",
    "\n",
    "\n",
    "system = \"You are a AWS security expert. You have a tool to enable GuardDuty\"\n",
    "prompt = f\"\"\"\n",
    "Review the finding and use your tools to remediate the finding.\n",
    "\n",
    "<finding>\n",
    "{guardduty_finding}\n",
    "</finding>\n",
    "\n",
    "\"\"\"\n",
    "\n",
    "messages = [{\"role\": \"user\", \"content\": [{\"text\": prompt}]}]\n",
    "response = get_completion(messages, system, guardduty_tool_config)\n",
    "\n",
    "# Extract the tool use information\n",
    "text_output = response['output']['message']['content'][0]['text']\n",
    "tool_use_id = response['output']['message']['content'][1]['toolUse']['toolUseId']\n",
    "tool_name = response['output']['message']['content'][1]['toolUse']['name']\n",
    "tool_input = response['output']['message']['content'][1]['toolUse']['input']\n",
    "\n",
    "# Print the text and tool use information\n",
    "print(f\"Text output: {text_output}\")\n",
    "print(f\"Tool requested: {tool_name}\")\n",
    "print(f\"Tool input parameters: {tool_input}\")\n",
    "\n",
    "if tool_name in available_tools:\n",
    "    function_to_call = available_tools[tool_name]\n",
    "    tool_result_content = function_to_call(**tool_input)\n",
    "    print(f\"Function execution result: {tool_result_content}\")\n",
    "\n",
    "    # Add the tool call to the prompt\n",
    "    tool_call = {\n",
    "        \"role\": \"assistant\",\n",
    "        \"content\": [\n",
    "            {\"text\": text_output},\n",
    "            {\n",
    "                \"toolUse\": {\n",
    "                    \"toolUseId\": tool_use_id,\n",
    "                    \"name\": tool_name,\n",
    "                    \"input\": tool_input\n",
    "                }\n",
    "            }\n",
    "        ]\n",
    "    }\n",
    "    messages.append(tool_call)\n",
    "    \n",
    "    # Add the tool results to the prompt\n",
    "    tool_results_message = {\n",
    "        \"role\": \"user\",\n",
    "        \"content\": [\n",
    "            {\n",
    "                \"toolResult\": {\n",
    "                    \"toolUseId\": tool_use_id,\n",
    "                    \"content\": [\n",
    "                        {\n",
    "                            \"text\": tool_result_content\n",
    "                        }\n",
    "                    ]\n",
    "                }\n",
    "            }\n",
    "        ]\n",
    "    }\n",
    "    messages.append(tool_results_message)\n",
    "    \n",
    "    print(\"Generating final response...\\n\")\n",
    "    # Send the complete message after the tool was called back to Claude\n",
    "    response = get_completion(messages, system, guardduty_tool_config)\n",
    "    text_output = response['output']['message']['content'][0]['text']\n",
    "    print(f\"Final response: {text_output}\")"
   ]
  },
  {
   "cell_type": "markdown",
   "id": "051bc957-ba28-4c3b-8f00-53558c1d350e",
   "metadata": {},
   "source": [
    "<div style='background-color:#f0f0f0; padding:10px; border-radius:5px;'>\n",
    "    <h3>Step 5: Verify GuardDuty is enabled.</h3>\n",
    "    <p>In this step, you will verify GuardDuty is enabled</p>\n",
    "</div>\n",
    "\n",
    "1. To verify if GuardDuty is enabled, navigate to the console.\n",
    "https://us-west-2.console.aws.amazon.com/guardduty"
   ]
  }
 ],
 "metadata": {
  "kernelspec": {
   "display_name": "conda_python3",
   "language": "python",
   "name": "conda_python3"
  },
  "language_info": {
   "codemirror_mode": {
    "name": "ipython",
    "version": 3
   },
   "file_extension": ".py",
   "mimetype": "text/x-python",
   "name": "python",
   "nbconvert_exporter": "python",
   "pygments_lexer": "ipython3",
   "version": "3.10.17"
  }
 },
 "nbformat": 4,
 "nbformat_minor": 5
}
