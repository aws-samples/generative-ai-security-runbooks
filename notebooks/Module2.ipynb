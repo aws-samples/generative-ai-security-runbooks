{
 "cells": [
  {
   "cell_type": "markdown",
   "id": "fa3dd23a-d634-4cb8-9374-c6805a27033b",
   "metadata": {
    "tags": []
   },
   "source": [
    "## Create a generative AI runbook to resolve security findings"
   ]
  },
  {
   "cell_type": "markdown",
   "id": "3e04c473-e974-4398-aab2-88f8972cc237",
   "metadata": {
    "tags": []
   },
   "source": [
    "## Module 2"
   ]
  },
  {
   "cell_type": "markdown",
   "id": "2143c77d",
   "metadata": {},
   "source": [
    "```\n",
    "// Copyright Amazon.com, Inc. or its affiliates. All Rights Reserved.\n",
    "// SPDX-License-Identifier: MIT-0\n",
    "```"
   ]
  },
  {
   "cell_type": "markdown",
   "id": "3a027903-b32d-4c26-b0d0-9eb4303d41b7",
   "metadata": {},
   "source": [
    "### Introduction\n",
    "\n",
    "In this module, you will learn the art-of-the-possible and dive deep into some of the advanced features of Claude 3.\n",
    "- Create a tool for Claude 3 to use\n",
    "- Create a function to support when the tool is used\n",
    "- Pass the results of the tool back into Claude 3\n",
    "- Get the final result\n",
    "\n",
    "**NOTE**: You can use SHIFT + ENTER to run each of the cells in this workbook.\n",
    "\n",
    "With tool use, we substitute tool or function results into prompts. Claude 3 can't literally call or access tools and functions. Instead, we have Claude 3:\n",
    "\n",
    "- Output the tool name and arguments it wants to call\n",
    "- Halt any further response generation while the tool is called\n",
    "- Then we reprompt with the appended tool results\n",
    "\n",
    "Function calling is useful because it expands Claude 3's capabilities and enables Claude 3 to handle much more complex, multi-step tasks. \n",
    "\n",
    "We will use tool use / function calling to expand Claude 3's knowledge of Security Hub findings."
   ]
  },
  {
   "cell_type": "markdown",
   "id": "17a67caa-dcf7-4ee9-96f4-4f0ab0169bb8",
   "metadata": {},
   "source": [
    "#### Step 1: Create a tool for Claude 3 to use\n",
    "\n",
    "In this step, we will setup our function to access Claude 3 and create a tool."
   ]
  },
  {
   "cell_type": "code",
   "execution_count": null,
   "id": "7ff183bb-ccf5-4e6b-8762-d16acc8ea536",
   "metadata": {
    "tags": []
   },
   "outputs": [],
   "source": [
    "%pip install anthropic --quiet\n",
    "\n",
    "import os\n",
    "import sys\n",
    "import re\n",
    "from anthropic import AnthropicBedrock\n",
    "\n",
    "MODEL_NAME='anthropic.claude-3-sonnet-20240229-v1:0'\n",
    "AWS_REGION = \"us-west-2\"\n",
    "\n",
    "client = AnthropicBedrock(aws_region=AWS_REGION)\n",
    "\n",
    "# Rewrittten to call Claude 3 Sonnet, which is generally better at tool use, and include stop_sequences\n",
    "def get_completion(messages, system_prompt=\"\", prefill=\"\",stop_sequences=None):\n",
    "    message = client.messages.create(\n",
    "        model=MODEL_NAME,\n",
    "        max_tokens=2000,\n",
    "        temperature=0.0,\n",
    "        messages=messages,\n",
    "        system=system_prompt,\n",
    "        stop_sequences=stop_sequences\n",
    "    )\n",
    "    return message.content[0].text"
   ]
  },
  {
   "cell_type": "markdown",
   "id": "dcee651d-5d96-4b30-9a58-0f6cf5ebc0da",
   "metadata": {},
   "source": [
    "The system prompt gives context to the tools Claude 3 has access to. In this workshop, we are using a similar prompt from the Claude 3 documentation."
   ]
  },
  {
   "cell_type": "code",
   "execution_count": null,
   "id": "96783219-9411-4a2e-82a6-39187bc0beee",
   "metadata": {
    "tags": []
   },
   "outputs": [],
   "source": [
    "system_prompt_tools_general_explanation = \"\"\"You have access to a set of functions you can use to answer the user's question. This includes access to a\n",
    "sandboxed computing environment. You do NOT currently have the ability to inspect files or interact with external\n",
    "resources, except by invoking the below functions.\n",
    "\n",
    "You can invoke one or more functions by writing a \"<function_calls>\" block like the following as part of your\n",
    "reply to the user:\n",
    "<function_calls>\n",
    "<invoke name=\"$FUNCTION_NAME\">\n",
    "<antml:parameter name=\"$PARAMETER_NAME\">$PARAMETER_VALUE</parameter>\n",
    "...\n",
    "</invoke>\n",
    "<invoke name=\"$FUNCTION_NAME2\">\n",
    "...\n",
    "</invoke>\n",
    "</function_calls>\n",
    "\n",
    "String and scalar parameters should be specified as is, while lists and objects should use JSON format. Note that\n",
    "spaces for string values are not stripped. The output is not expected to be valid XML and is parsed with regular\n",
    "expressions.\n",
    "\n",
    "The output and/or any errors will appear in a subsequent \"<function_results>\" block, and remain there as part of\n",
    "your reply to the user.\n",
    "You may then continue composing the rest of your reply to the user, respond to any errors, or make further function\n",
    "calls as appropriate.\n",
    "If a \"<function_results>\" does NOT appear after your function calls, then they are likely malformatted and not\n",
    "recognized as a call.\"\"\""
   ]
  },
  {
   "cell_type": "markdown",
   "id": "eb948743-3f20-470a-868b-86a7cc589e8f",
   "metadata": {},
   "source": [
    "In the specific tool prompt, we define a function that Claude 3 has access to. \n",
    "\n",
    "The function is called `get_findings_by_severity` and takes two parameters:\n",
    "- `severity` - the severity of the findings, which could be CRITICAL, HIGH or MEDIUM.\n",
    "- `Limit` - the number of findings to return."
   ]
  },
  {
   "cell_type": "code",
   "execution_count": null,
   "id": "a6786ff8-ae4a-4103-b13e-80b58325fae2",
   "metadata": {
    "tags": []
   },
   "outputs": [],
   "source": [
    "system_prompt_tools_specific_tools = \"\"\"Here are the functions available in JSONSchema format:\n",
    "<tools>\n",
    "<tool_description>\n",
    "<tool_name>get_findings_by_severity</tool_name>\n",
    "<description>\n",
    "Lookup function for getting findings from Security Hub.\n",
    "Supports CRITICAL, HIGH, and MEDIUM severity.\n",
    "</description>\n",
    "<parameters>\n",
    "<parameter>\n",
    "<name>severity</name>\n",
    "<type>String</type>\n",
    "<description>Severity level of the findings to return. This should be CRITICAL, HIGH, or MEDIUM. They must be uppercase</description>\n",
    "</parameter>\n",
    "<parameter>\n",
    "<name>limit</name>\n",
    "<type>int</type>\n",
    "<description>This parameter determine how many results to return</description>\n",
    "</parameter>\n",
    "</parameters>\n",
    "</tool_description>\n",
    "</tools>\n",
    "\"\"\"\n",
    "\n",
    "system_prompt = system_prompt_tools_general_explanation + system_prompt_tools_specific_tools"
   ]
  },
  {
   "cell_type": "markdown",
   "id": "0c5ca7f7-e04a-4322-8c3d-91df8040a4e0",
   "metadata": {},
   "source": [
    "We then update our prompt. In our example, we want to find 3 medium findings in Security Hub."
   ]
  },
  {
   "cell_type": "code",
   "execution_count": null,
   "id": "0b8f76a5-410a-47b8-b58a-ae87714a9837",
   "metadata": {
    "tags": []
   },
   "outputs": [],
   "source": [
    "lookup_prompt = {\n",
    "    \"role\": \"user\",\n",
    "    \"content\": \"What are 3 medium findings in Security Hub?\"\n",
    "}\n",
    "\n",
    "stop_sequences = [\"</function_calls>\"]\n",
    "\n",
    "# Get Claude 3's response\n",
    "function_calling_response = get_completion([lookup_prompt], system_prompt=system_prompt, stop_sequences=stop_sequences)\n",
    "print(function_calling_response)"
   ]
  },
  {
   "cell_type": "markdown",
   "id": "105b83e1-a964-49b6-be12-cd1a2235fcbf",
   "metadata": {},
   "source": [
    "#### Step 2: Create a function to support when the tool is used\n",
    "\n",
    "Claude 3 outputed that it would like to use the new tool that we created `get_findings_by_severity`. In this step we will define it.\n",
    "\n",
    "Just like in Module 1, we use boto3 to make an API call to Security Hub."
   ]
  },
  {
   "cell_type": "code",
   "execution_count": null,
   "id": "385e67d1-68cd-4a1a-8d79-76a7bde2236b",
   "metadata": {
    "tags": []
   },
   "outputs": [],
   "source": [
    "import boto3\n",
    "sh = boto3.client('securityhub')\n",
    "\n",
    "def get_findings_by_severity(severity, limit):\n",
    "    response = sh.get_findings(\n",
    "        Filters={\n",
    "                'SeverityLabel': [\n",
    "                    {\n",
    "                        'Value': severity,\n",
    "                        'Comparison': 'EQUALS'\n",
    "                    }\n",
    "                ]\n",
    "        },\n",
    "        MaxResults=limit\n",
    "    )\n",
    "    return response['Findings']"
   ]
  },
  {
   "cell_type": "markdown",
   "id": "5a1fa17e-cf61-42c9-bb83-a8553d6d3d40",
   "metadata": {},
   "source": [
    "The parameters Claude 3 would like to use, are wrapped in tags:\n",
    "\n",
    "```\n",
    "<parameter name=\"severity\">MEDIUM</parameter>\n",
    "<parameter name=\"limit\">3</parameter>\n",
    "```\n",
    "\n",
    "Next, use the function below to extract them and call the `getFindingsBySeverity` function."
   ]
  },
  {
   "cell_type": "code",
   "execution_count": null,
   "id": "ed32c55c-1d4b-4e33-a199-18713e2d0c44",
   "metadata": {
    "tags": []
   },
   "outputs": [],
   "source": [
    "# Extract the paremters from Claude 3 and call our new function\n",
    "\n",
    "def find_parameter(message, parameter_name):\n",
    "    parameter_start_string = f\"name=\\\"{parameter_name}\\\">\"\n",
    "    start = message.index(parameter_start_string)\n",
    "    if start == -1:\n",
    "        return None\n",
    "    if start > 0:\n",
    "        start = start + len(parameter_start_string)\n",
    "        end = start\n",
    "        while message[end] != \"<\":\n",
    "            end += 1\n",
    "    return message[start:end]\n",
    "\n",
    "severity = find_parameter(function_calling_response, \"severity\")\n",
    "limit = find_parameter(function_calling_response, \"limit\")\n",
    "\n",
    "if severity and limit:\n",
    "    result = get_findings_by_severity(str(severity), int(limit))\n",
    "    print(\"---------------- RESULT ----------------\")\n",
    "    print(f\"{result}\")"
   ]
  },
  {
   "cell_type": "markdown",
   "id": "68c96042-51a0-46fc-b3ce-b20138508dbc",
   "metadata": {},
   "source": [
    "#### Step 3: Pass the results of the tool back into Claude 3\n",
    "\n",
    "The output of the function is a JSON representation of the findings, just like we got in module 1. Claude 3 expects the result of the function to be formatted in a specific format. Run the following function to format it."
   ]
  },
  {
   "cell_type": "code",
   "execution_count": null,
   "id": "470e0ea4-b4cc-4562-b87d-9c4c1e4ad0fe",
   "metadata": {
    "tags": []
   },
   "outputs": [],
   "source": [
    "# Now we need to properly format the results, so we can pass back into Claude 3\n",
    "\n",
    "def construct_successful_function_run_injection_prompt(invoke_results):\n",
    "    constructed_prompt = (\n",
    "        \"<function_results>\\n\"\n",
    "        + '\\n'.join(\n",
    "            f\"<result>\\n<tool_name>{res['tool_name']}</tool_name>\\n<stdout>\\n{res['tool_result']}\\n</stdout>\\n</result>\"\n",
    "            for res in invoke_results\n",
    "        ) + \"\\n</function_results>\"\n",
    "    )\n",
    "\n",
    "    return constructed_prompt\n",
    "\n",
    "formatted_results = [{\n",
    "    'tool_name': 'get_findings_by_severity',\n",
    "    'tool_result': result\n",
    "}]\n",
    "function_results = construct_successful_function_run_injection_prompt(formatted_results)\n",
    "print(function_results)\n"
   ]
  },
  {
   "cell_type": "markdown",
   "id": "3c7d1e42-1b5d-41a0-8ed7-1c175455944a",
   "metadata": {},
   "source": [
    "#### Step 4: Get the final result\n",
    "\n",
    "In this step, we take the formatted findings, and pass them back into Claude 3 to get our final result."
   ]
  },
  {
   "cell_type": "code",
   "execution_count": null,
   "id": "698dfe0c-6636-4ebe-a1a4-7ad4b4fa2fff",
   "metadata": {
    "tags": []
   },
   "outputs": [],
   "source": [
    "# Send back to Claude 3 by appending the result back to the message chain\n",
    "\n",
    "full_first_response = function_calling_response + \"</function_calls>\"\n",
    "\n",
    "# Construct the full conversation\n",
    "messages = [lookup_prompt,\n",
    "{\n",
    "    \"role\": \"assistant\",\n",
    "    \"content\": full_first_response\n",
    "},\n",
    "{\n",
    "    \"role\": \"user\",\n",
    "    \"content\": function_results\n",
    "}]\n",
    "   \n",
    "# Print Claude 3's response\n",
    "final_response = get_completion(messages, system_prompt=system_prompt, stop_sequences=stop_sequences)\n",
    "print(\"------------- FINAL RESULT -------------\")\n",
    "print(final_response)"
   ]
  }
 ],
 "metadata": {
  "kernelspec": {
   "display_name": "conda_python3",
   "language": "python",
   "name": "conda_python3"
  },
  "language_info": {
   "codemirror_mode": {
    "name": "ipython",
    "version": 3
   },
   "file_extension": ".py",
   "mimetype": "text/x-python",
   "name": "python",
   "nbconvert_exporter": "python",
   "pygments_lexer": "ipython3",
   "version": "3.10.13"
  }
 },
 "nbformat": 4,
 "nbformat_minor": 5
}
