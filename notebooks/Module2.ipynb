{
 "cells": [
  {
   "cell_type": "markdown",
   "id": "fa3dd23a-d634-4cb8-9374-c6805a27033b",
   "metadata": {
    "tags": []
   },
   "source": [
    "## Create a generative AI runbook to resolve security findings"
   ]
  },
  {
   "cell_type": "markdown",
   "id": "3e04c473-e974-4398-aab2-88f8972cc237",
   "metadata": {
    "tags": []
   },
   "source": [
    "## Module 2 - Use tools to get real-time data"
   ]
  },
  {
   "cell_type": "markdown",
   "id": "2143c77d",
   "metadata": {},
   "source": [
    "```\n",
    "// Copyright Amazon.com, Inc. or its affiliates. All Rights Reserved.\n",
    "// SPDX-License-Identifier: MIT-0\n",
    "```"
   ]
  },
  {
   "cell_type": "markdown",
   "id": "3a027903-b32d-4c26-b0d0-9eb4303d41b7",
   "metadata": {},
   "source": [
    "### Introduction\n",
    "\n",
    "In this module, you will learn the art-of-the-possible and dive deep into some of the advanced features of Claude 3.7 Sonnet.\n",
    "- Create a tool for Claude 3.7 Sonnet to use\n",
    "- Create a function to support when the tool is used\n",
    "- Pass the results of the tool back into Claude 3.7 Sonnet\n",
    "- Get the final result\n",
    "\n",
    "**NOTE**: You can use SHIFT + ENTER to run each of the cells in this workbook.\n",
    "\n",
    "With tool use, we substitute tool or function results into prompts. Claude 3.7 Sonnet can't literally call or access tools and functions. Instead, we have Claude 3.7 Sonnet:\n",
    "\n",
    "- Output the tool name and arguments it wants to call\n",
    "- Halt any further response generation while the tool is called\n",
    "- Then we reprompt with the appended tool results\n",
    "\n",
    "Function calling is useful because it expands Claude 3.7 Sonnets capabilities and enables Claude 3.7 Sonnet to handle much more complex, multi-step tasks. \n",
    "\n",
    "We will use tool use / function calling to expand Claude 3.7 Sonnets knowledge of Security Hub findings."
   ]
  },
  {
   "cell_type": "markdown",
   "id": "34a6b95e-02e3-4751-9fbc-811d6f991b9e",
   "metadata": {},
   "source": [
    "<div class=\"alert alert-block alert-info\">\n",
    "You can safely ignore `Note: you may need to restart the kernel to use updated packages.`\n",
    "</div>"
   ]
  },
  {
   "cell_type": "markdown",
   "id": "2a1cedb7-d7d5-4bf4-8fa7-75308078664e",
   "metadata": {},
   "source": [
    "***"
   ]
  },
  {
   "cell_type": "markdown",
   "id": "17a67caa-dcf7-4ee9-96f4-4f0ab0169bb8",
   "metadata": {},
   "source": [
    "<div style='background-color:#f0f0f0; padding:10px; border-radius:5px;'>\n",
    "    <h3>Step 1: Create a tool for Claude 3.7 Sonnet to use</h3>\n",
    "    <p>In this step, you will setup your function to access Claude 3.7 Sonnet and create a tool.</p>\n",
    "</div>"
   ]
  },
  {
   "cell_type": "code",
   "execution_count": null,
   "id": "7ff183bb-ccf5-4e6b-8762-d16acc8ea536",
   "metadata": {
    "tags": []
   },
   "outputs": [],
   "source": [
    "%pip install -qU pip boto3 awscli botocore\n",
    "\n",
    "import boto3\n",
    "import json\n",
    "\n",
    "modelId = \"us.anthropic.claude-3-7-sonnet-20250219-v1:0\"\n",
    "\n",
    "bedrock_client = boto3.client(service_name='bedrock-runtime')\n",
    "inference_config = {\"temperature\": 0}\n",
    "\n",
    "def get_completion(messages, system_prompt=None, toolConfig=None):\n",
    "\n",
    "    # Create the converse method parameters\n",
    "    converse_api_params = {\n",
    "        \"modelId\": modelId,\n",
    "        \"messages\": messages,\n",
    "        \"inferenceConfig\": inference_config,\n",
    "    }\n",
    "\n",
    "    if system_prompt:\n",
    "        converse_api_params[\"system\"] = [{\"text\": system_prompt}]\n",
    "\n",
    "    # Check if tool is provided and add to converse_api_params\n",
    "    if toolConfig:\n",
    "        converse_api_params[\"toolConfig\"] = toolConfig\n",
    "\n",
    "    response = bedrock_client.converse(**converse_api_params)\n",
    "\n",
    "    return response\n",
    "\n",
    "print(\"^ You can safely ignore `Note: you may need to restart the kernel to use updated packages.`\\n\")\n",
    "print(\"Get completion function defined.\")"
   ]
  },
  {
   "cell_type": "markdown",
   "id": "eb948743-3f20-470a-868b-86a7cc589e8f",
   "metadata": {},
   "source": [
    "<div style='background-color:#f0f0f0; padding:10px; border-radius:5px;'>\n",
    "    <p>Next, we define a tool that Claude 3 has access to.</p>\n",
    "    <p>The function is called `get_findings_by_severity` and takes two parameters:\n",
    "        <ul>\n",
    "            <li>`severity` - the severity of the findings, which could be CRITICAL, HIGH or MEDIUM.</li> \n",
    "            <li>`Limit` - the number of findings to return.</li>\n",
    "        </ul>\n",
    "    </p>\n",
    "</div>"
   ]
  },
  {
   "cell_type": "code",
   "execution_count": null,
   "id": "a6786ff8-ae4a-4103-b13e-80b58325fae2",
   "metadata": {
    "tags": []
   },
   "outputs": [],
   "source": [
    "toolConfig = {\n",
    "    \"tools\": [\n",
    "        {\n",
    "          \"toolSpec\": {\n",
    "            \"name\": \"get_findings_by_severity\",\n",
    "            \"description\": \"Lookup function for getting findings from Security Hub. Supports CRITICAL, HIGH, and MEDIUM severity.\",\n",
    "            \"inputSchema\": {\n",
    "              \"json\": {\n",
    "                \"type\": \"object\",\n",
    "                \"properties\": {\n",
    "                  \"severity\": {\n",
    "                    \"type\": \"string\",\n",
    "                    \"description\": \"Severity level of the findings to return. This should be CRITICAL, HIGH, or MEDIUM. They must be uppercase\"\n",
    "                  },\n",
    "                  \"limit\": {\n",
    "                    \"type\": \"string\",\n",
    "                    \"description\": \"This parameter determine how many results to return\"\n",
    "                  }\n",
    "                },\n",
    "                \"required\": [\n",
    "                  \"severity\", \"limit\"]\n",
    "              }\n",
    "            }\n",
    "          }\n",
    "        }\n",
    "     ]\n",
    "}"
   ]
  },
  {
   "cell_type": "markdown",
   "id": "0c5ca7f7-e04a-4322-8c3d-91df8040a4e0",
   "metadata": {},
   "source": [
    "<div style='background-color:#f0f0f0; padding:10px; border-radius:5px;'>\n",
    "    <p>We then can create a prompt, and pass in the list of tools Claude 3.7 Sonnet has access to. In our example, we want to find 3 medium findings in Security Hub. Claude 3.7 Sonnet has access to one tool, get_findings_by_severity.</p>\n",
    "</div>"
   ]
  },
  {
   "cell_type": "code",
   "execution_count": null,
   "id": "0b8f76a5-410a-47b8-b58a-ae87714a9837",
   "metadata": {
    "tags": []
   },
   "outputs": [],
   "source": [
    "user_prompt = {\"role\": \"user\", \"content\": [{\"text\": \"What are 3 medium findings in Security Hub?\"}]}\n",
    "\n",
    "messages = [user_prompt]\n",
    "\n",
    "print(f\"User prompt: {user_prompt}\")\n",
    "response = get_completion(messages, toolConfig=toolConfig)\n",
    "print(f\"Stop reason: {response['stopReason']}\")\n",
    "\n",
    "assistant_response = response['output']['message']['content']\n",
    "\n",
    "for item in assistant_response:\n",
    "    print(item)\n",
    "    if 'toolUse' in item:\n",
    "        tool = item['toolUse']"
   ]
  },
  {
   "cell_type": "markdown",
   "id": "105b83e1-a964-49b6-be12-cd1a2235fcbf",
   "metadata": {},
   "source": [
    "<div style='background-color:#f0f0f0; padding:10px; border-radius:5px;'>\n",
    "    <h3>Step 2: Create a function to support when the tool is used</h3>\n",
    "    <p>Claude 3.7 Sonnet outputed that it would like to use the new tool that we created `get_findings_by_severity`. In this step we will define it.</p>\n",
    "    <p>Just like in Module 1, we use boto3 to make an API call to Security Hub.</p>\n",
    "</div>"
   ]
  },
  {
   "cell_type": "code",
   "execution_count": null,
   "id": "385e67d1-68cd-4a1a-8d79-76a7bde2236b",
   "metadata": {
    "tags": []
   },
   "outputs": [],
   "source": [
    "import boto3\n",
    "sh = boto3.client('securityhub')\n",
    "\n",
    "def get_findings_by_severity(severity, limit):\n",
    "    response = sh.get_findings(\n",
    "        Filters={\n",
    "                'SeverityLabel': [\n",
    "                    {\n",
    "                        'Value': severity,\n",
    "                        'Comparison': 'EQUALS'\n",
    "                    }\n",
    "                ]\n",
    "        },\n",
    "        MaxResults=limit\n",
    "    )\n",
    "    return response['Findings']\n",
    "\n",
    "print(\"Get findings by severity function defined.\")"
   ]
  },
  {
   "cell_type": "markdown",
   "id": "5a1fa17e-cf61-42c9-bb83-a8553d6d3d40",
   "metadata": {},
   "source": [
    "<div style='background-color:#f0f0f0; padding:10px; border-radius:5px;'>\n",
    "\n",
    "In step 1, Claude 3.7 Sonnet outputted that it would like to use a tool and provided the inputs.\n",
    "\n",
    "```\n",
    "{\n",
    "    'toolUse': {\n",
    "        'toolUseId': 'tooluse_J-3JCS6FSOmXk2OBepbiGg',\n",
    "        'name': 'get_findings_by_severity',\n",
    "        'input': {\n",
    "            'severity': 'MEDIUM',\n",
    "            'limit': '3'\n",
    "        }\n",
    "}\n",
    "```\n",
    "    \n",
    "In this step, we will extract them, and call the get_findings_by_severity python function.\n",
    "    \n",
    "</div>"
   ]
  },
  {
   "cell_type": "code",
   "execution_count": null,
   "id": "ed32c55c-1d4b-4e33-a199-18713e2d0c44",
   "metadata": {
    "tags": []
   },
   "outputs": [],
   "source": [
    "# Extract the parameters from Claude 3.7 Sonnet and call our new function\n",
    "\n",
    "severity = tool['input']['severity']\n",
    "limit = tool['input']['limit']\n",
    "\n",
    "if severity and limit:\n",
    "    sh_result = get_findings_by_severity(str(severity), int(limit))\n",
    "    print(\"---------------- RESULT ----------------\")\n",
    "    print(f\"{sh_result}\")"
   ]
  },
  {
   "cell_type": "markdown",
   "id": "68c96042-51a0-46fc-b3ce-b20138508dbc",
   "metadata": {},
   "source": [
    "<div style='background-color:#f0f0f0; padding:10px; border-radius:5px;'>\n",
    "    <h3>Step 3: Pass the results of the tool back into Claude 3.7 Sonnet</h3>\n",
    "    <p>The output of the function is a JSON representation of the findings, just like we got in module 1. Claude 3.7 Sonnet expects the result of the function to be a string in a user message.</p>\n",
    "</div>"
   ]
  },
  {
   "cell_type": "code",
   "execution_count": null,
   "id": "470e0ea4-b4cc-4562-b87d-9c4c1e4ad0fe",
   "metadata": {
    "tags": []
   },
   "outputs": [],
   "source": [
    "# Create a message with the results from the Security Hub function into a user prompt.\n",
    "\n",
    "tool_call = {\"role\": \"assistant\", \"content\": assistant_response}\n",
    "\n",
    "tool_result = {\n",
    "    \"role\": \"user\",\n",
    "    \"content\": [\n",
    "        {\n",
    "            \"toolResult\": {\n",
    "                \"toolUseId\": tool['toolUseId'],\n",
    "                \"content\": [\n",
    "                    {\n",
    "                        \"text\": json.dumps(sh_result)\n",
    "                        }\n",
    "                ]\n",
    "            }\n",
    "        }\n",
    "    ]\n",
    "}\n",
    "\n",
    "print(f\"User prompt: {user_prompt}\")\n",
    "print(f\"\\nTool call: {tool_call}\")\n",
    "print(f\"\\nTool results: {tool_result}\")"
   ]
  },
  {
   "cell_type": "markdown",
   "id": "3c7d1e42-1b5d-41a0-8ed7-1c175455944a",
   "metadata": {},
   "source": [
    "<div style='background-color:#f0f0f0; padding:10px; border-radius:5px;'>\n",
    "    <h3>Step 4: Get the final result</h3>\n",
    "    <p>In this step, we will combine the first user prompt, the tool call prompt, and the results of the tool (function) into a single message. This will return the final result.</p>\n",
    "</div>"
   ]
  },
  {
   "cell_type": "code",
   "execution_count": null,
   "id": "698dfe0c-6636-4ebe-a1a4-7ad4b4fa2fff",
   "metadata": {
    "tags": []
   },
   "outputs": [],
   "source": [
    "# Send back to Claude 3.7 Sonnet by appending the result back to the message chain\n",
    "\n",
    "messages = [user_prompt, tool_call, tool_result]\n",
    "\n",
    "# Print Claude 3.7 Sonnet response\n",
    "final_response = get_completion(messages=messages, toolConfig=toolConfig)\n",
    "print(\"------------- FINAL RESULT -------------\")\n",
    "print(final_response['output']['message']['content'][0]['text'])"
   ]
  },
  {
   "cell_type": "code",
   "execution_count": null,
   "id": "f015b7a1-838d-4afa-9b73-0f195b19bc24",
   "metadata": {},
   "outputs": [],
   "source": []
  }
 ],
 "metadata": {
  "kernelspec": {
   "display_name": "conda_python3",
   "language": "python",
   "name": "conda_python3"
  },
  "language_info": {
   "codemirror_mode": {
    "name": "ipython",
    "version": 3
   },
   "file_extension": ".py",
   "mimetype": "text/x-python",
   "name": "python",
   "nbconvert_exporter": "python",
   "pygments_lexer": "ipython3",
   "version": "3.10.17"
  }
 },
 "nbformat": 4,
 "nbformat_minor": 5
}
