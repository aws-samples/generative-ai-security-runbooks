{
 "cells": [
  {
   "cell_type": "markdown",
   "id": "fa3dd23a-d634-4cb8-9374-c6805a27033b",
   "metadata": {
    "tags": []
   },
   "source": [
    "## Create a generative AI runbook to resolve security findings"
   ]
  },
  {
   "cell_type": "markdown",
   "id": "3e04c473-e974-4398-aab2-88f8972cc237",
   "metadata": {
    "tags": []
   },
   "source": [
    "## Module 2b"
   ]
  },
  {
   "cell_type": "markdown",
   "id": "2143c77d",
   "metadata": {},
   "source": [
    "```\n",
    "// Copyright Amazon.com, Inc. or its affiliates. All Rights Reserved.\n",
    "// SPDX-License-Identifier: MIT-0\n",
    "```"
   ]
  },
  {
   "cell_type": "markdown",
   "id": "3a027903-b32d-4c26-b0d0-9eb4303d41b7",
   "metadata": {},
   "source": [
    "### Introduction\n",
    "\n",
    "In this module, you will learn the art-of-the-possible and dive deep into some of the advanced features of Claude 3.\n",
    "- Create a tool for Claude 3 to use\n",
    "- Create a function to support when the tool is used\n",
    "- Pass the results of the tool back into Claude 3\n",
    "- Get the final result\n",
    "\n",
    "**NOTE**: You can use SHIFT + ENTER to run each of the cells in this workbook.\n",
    "\n",
    "With tool use, we substitute tool or function results into prompts. Claude 3 can't literally call or access tools and functions. Instead, we have Claude 3:\n",
    "\n",
    "- Output the tool name and arguments it wants to call\n",
    "- Halt any further response generation while the tool is called\n",
    "- Then we reprompt with the appended tool results\n",
    "\n",
    "Function calling is useful because it expands Claude 3's capabilities and enables Claude 3 to handle much more complex, multi-step tasks. \n",
    "\n",
    "We will use tool use / function calling to expand Claude 3's knowledge of Security Hub findings.\n",
    "\n",
    "----\n",
    "\n",
    "**NOTE**: This module is the same as module 2, but uses the Converse API. On May 30th, Anthropic released an update to improve the developer experience when using Claude 3 models tools."
   ]
  },
  {
   "cell_type": "markdown",
   "id": "17a67caa-dcf7-4ee9-96f4-4f0ab0169bb8",
   "metadata": {},
   "source": [
    "#### Step 1: Create a tool for Claude 3 to use\n",
    "\n",
    "In this step, we will setup our function to access Claude 3 and create a tool."
   ]
  },
  {
   "cell_type": "code",
   "execution_count": null,
   "id": "7ff183bb-ccf5-4e6b-8762-d16acc8ea536",
   "metadata": {
    "tags": []
   },
   "outputs": [],
   "source": [
    "%pip install anthropic --quiet\n",
    "\n",
    "import os\n",
    "import sys\n",
    "import re\n",
    "import json\n",
    "from anthropic import AnthropicBedrock\n",
    "\n",
    "MODEL_NAME='anthropic.claude-3-sonnet-20240229-v1:0'\n",
    "AWS_REGION = \"us-west-2\"\n",
    "\n",
    "client = AnthropicBedrock(aws_region=AWS_REGION)\n",
    "\n",
    "def get_completion(messages, tools=\"\"):\n",
    "    message = client.messages.create(\n",
    "        model=MODEL_NAME,\n",
    "        max_tokens=2000,\n",
    "        temperature=0.0,\n",
    "        messages=messages,\n",
    "        tools=tools\n",
    "    )\n",
    "    return message"
   ]
  },
  {
   "cell_type": "markdown",
   "id": "eb948743-3f20-470a-868b-86a7cc589e8f",
   "metadata": {},
   "source": [
    "Next, we define a tool that Claude 3 has access to.\n",
    "\n",
    "The function is called `get_findings_by_severity` and takes two parameters:\n",
    "- `severity` - the severity of the findings, which could be CRITICAL, HIGH or MEDIUM.\n",
    "- `Limit` - the number of findings to return."
   ]
  },
  {
   "cell_type": "code",
   "execution_count": null,
   "id": "a6786ff8-ae4a-4103-b13e-80b58325fae2",
   "metadata": {
    "tags": []
   },
   "outputs": [],
   "source": [
    "tools = [\n",
    "    {\n",
    "        \"name\": \"get_findings_by_severity\",\n",
    "        \"description\": \"Lookup function for getting findings from Security Hub. Supports CRITICAL, HIGH, and MEDIUM severity.\",\n",
    "        \"input_schema\": {\n",
    "            \"type\": \"object\",\n",
    "            \"properties\": {\n",
    "                \"severity\": {\n",
    "                    \"type\": \"string\",\n",
    "                    \"description\": \"Severity level of the findings to return. This should be CRITICAL, HIGH, or MEDIUM. They must be uppercase\"\n",
    "                },\n",
    "                \"limit\": {\n",
    "                    \"type\": \"integer\",\n",
    "                    \"description\": \"This parameter determine how many results to return\"\n",
    "                }\n",
    "            },\n",
    "        }\n",
    "    }\n",
    "]"
   ]
  },
  {
   "cell_type": "markdown",
   "id": "0c5ca7f7-e04a-4322-8c3d-91df8040a4e0",
   "metadata": {},
   "source": [
    "We then can create a prompt, and pass in the list of tools Claude 3 has access to. In our example, we want to find 3 medium findings in Security Hub. Claude 3 has access to one tool, get_findings_by_severity."
   ]
  },
  {
   "cell_type": "code",
   "execution_count": null,
   "id": "0b8f76a5-410a-47b8-b58a-ae87714a9837",
   "metadata": {
    "tags": []
   },
   "outputs": [],
   "source": [
    "user_prompt = {\n",
    "    \"role\": \"user\",\n",
    "    \"content\": \"What are 3 medium findings in Security Hub?\"\n",
    "}\n",
    "\n",
    "message = get_completion([user_prompt], tools=tools)\n",
    "tool = next(c for c in message.content if c.type == \"tool_use\")\n",
    "print(tool)"
   ]
  },
  {
   "cell_type": "markdown",
   "id": "105b83e1-a964-49b6-be12-cd1a2235fcbf",
   "metadata": {},
   "source": [
    "#### Step 2: Create a function to support when the tool is used\n",
    "\n",
    "Claude 3 outputed that it would like to use the new tool that we created `get_findings_by_severity`. In this step we will define it.\n",
    "\n",
    "Just like in Module 1, we use boto3 to make an API call to Security Hub."
   ]
  },
  {
   "cell_type": "code",
   "execution_count": null,
   "id": "385e67d1-68cd-4a1a-8d79-76a7bde2236b",
   "metadata": {
    "tags": []
   },
   "outputs": [],
   "source": [
    "import boto3\n",
    "sh = boto3.client('securityhub')\n",
    "\n",
    "def get_findings_by_severity(severity, limit):\n",
    "    response = sh.get_findings(\n",
    "        Filters={\n",
    "                'SeverityLabel': [\n",
    "                    {\n",
    "                        'Value': severity,\n",
    "                        'Comparison': 'EQUALS'\n",
    "                    }\n",
    "                ]\n",
    "        },\n",
    "        MaxResults=limit\n",
    "    )\n",
    "    return response['Findings']"
   ]
  },
  {
   "cell_type": "markdown",
   "id": "5a1fa17e-cf61-42c9-bb83-a8553d6d3d40",
   "metadata": {},
   "source": [
    "In step 1, Claude 3 outputted that it would like to use a tool and provided the inputs.\n",
    "\n",
    "```\n",
    "ToolUseBlock(id='toolu_bdrk_017AWvjgTPXDsP3ttNgVxNgy', input={'severity': 'MEDIUM', 'limit': 3}, name='get_findings_by_severity', type='tool_use')\n",
    "```\n",
    "\n",
    "In this step, we will extract them, and call the get_findings_by_severity python function."
   ]
  },
  {
   "cell_type": "code",
   "execution_count": null,
   "id": "ed32c55c-1d4b-4e33-a199-18713e2d0c44",
   "metadata": {
    "tags": []
   },
   "outputs": [],
   "source": [
    "# Extract the parameters from Claude 3 and call our new function\n",
    "severity = tool.input['severity']\n",
    "limit = tool.input['limit']\n",
    "\n",
    "if severity and limit:\n",
    "    result = get_findings_by_severity(str(severity), int(limit))\n",
    "    print(\"---------------- RESULT ----------------\")\n",
    "    print(f\"{result}\")"
   ]
  },
  {
   "cell_type": "markdown",
   "id": "68c96042-51a0-46fc-b3ce-b20138508dbc",
   "metadata": {},
   "source": [
    "#### Step 3: Pass the results of the tool back into Claude 3\n",
    "\n",
    "The output of the function is a JSON representation of the findings, just like we got in module 1. Claude 3 expects the result of the function to be a string in a user message."
   ]
  },
  {
   "cell_type": "code",
   "execution_count": null,
   "id": "470e0ea4-b4cc-4562-b87d-9c4c1e4ad0fe",
   "metadata": {
    "tags": []
   },
   "outputs": [],
   "source": [
    "# Create a message with the results from the Security Hub function into a user prompt.\n",
    "\n",
    "tool_call = {\"role\": message.role, \"content\": message.content}\n",
    "\n",
    "tool_results = {\n",
    "                \"role\": \"user\",\n",
    "                \"content\": [\n",
    "                    {\n",
    "                        \"type\": \"tool_result\",\n",
    "                        \"tool_use_id\": tool.id,\n",
    "                        \"content\": [{\"type\": \"text\", \"text\": json.dumps(result)}],\n",
    "                    }\n",
    "                ],\n",
    "            }\n",
    "\n",
    "print(user_prompt)\n",
    "print(tool_call)\n",
    "print(tool_results)\n"
   ]
  },
  {
   "cell_type": "markdown",
   "id": "3c7d1e42-1b5d-41a0-8ed7-1c175455944a",
   "metadata": {},
   "source": [
    "#### Step 4: Get the final result\n",
    "\n",
    "In this step, we will combine the first user prompt, the tool call prompt, and the results of the tool (function) into a single message. This will return the final result."
   ]
  },
  {
   "cell_type": "code",
   "execution_count": null,
   "id": "698dfe0c-6636-4ebe-a1a4-7ad4b4fa2fff",
   "metadata": {
    "tags": []
   },
   "outputs": [],
   "source": [
    "# Send back to Claude 3 by appending the result back to the message chain\n",
    "messages = [user_prompt, tool_call, tool_results]\n",
    "\n",
    "# Print Claude 3's response\n",
    "final_response = get_completion(messages=messages, tools=tools)\n",
    "print(\"------------- FINAL RESULT -------------\")\n",
    "print(final_response.content[0].text)"
   ]
  }
 ],
 "metadata": {
  "kernelspec": {
   "display_name": "conda_python3",
   "language": "python",
   "name": "conda_python3"
  },
  "language_info": {
   "codemirror_mode": {
    "name": "ipython",
    "version": 3
   },
   "file_extension": ".py",
   "mimetype": "text/x-python",
   "name": "python",
   "nbconvert_exporter": "python",
   "pygments_lexer": "ipython3",
   "version": "3.10.14"
  }
 },
 "nbformat": 4,
 "nbformat_minor": 5
}
