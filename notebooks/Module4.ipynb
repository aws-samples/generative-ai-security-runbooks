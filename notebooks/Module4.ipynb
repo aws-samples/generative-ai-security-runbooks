{
 "cells": [
  {
   "cell_type": "markdown",
   "id": "5c3def1a-8e2b-40fc-9963-44128ed7b1e2",
   "metadata": {},
   "source": [
    "## Create a generative AI runbook to resolve security findings"
   ]
  },
  {
   "cell_type": "markdown",
   "id": "e3661531-5506-41c5-81a9-400ce0774c22",
   "metadata": {},
   "source": [
    "## Module 4 - Using Amazon Bedrock Knowledge Bases"
   ]
  },
  {
   "cell_type": "markdown",
   "id": "2baf66c4",
   "metadata": {},
   "source": [
    "```\n",
    "// Copyright Amazon.com, Inc. or its affiliates. All Rights Reserved.\n",
    "// SPDX-License-Identifier: MIT-0\n",
    "```"
   ]
  },
  {
   "cell_type": "markdown",
   "id": "fe8f71af-bf14-4cfe-8176-1681a0ca778e",
   "metadata": {},
   "source": [
    "### Introduction\n",
    "\n",
    "In this module, you will complete the following:\n",
    "- Get a finding from Security Hub\n",
    "- Use Claude 3.7 to summarize the finding result\n",
    "- Use Amazon Bedrock Knowledge Bases to get relevant security policy information\n",
    "- Use Claude 3.7 to generate Python code used to remediate the finding with the security policy requirements\n",
    "\n",
    "**NOTE**: You can use SHIFT + ENTER to run each of the cells in this workbook.\n",
    "\n",
    "**In this example, you will get a failed finding from Security Hub for `Ensure IAM password policy requires minimum password length of 14 or greater [IAM.15]`**"
   ]
  },
  {
   "cell_type": "markdown",
   "id": "f3a6eff2-f346-4866-8326-05d0561c64b0",
   "metadata": {
    "tags": []
   },
   "source": [
    "<div class=\"alert alert-block alert-warning\">\n",
    "<b>Action required:</b> Before continuing with this notebook, you must create a <b>Knowledge Base</b> from the console, and upload the password policy document.\n",
    "</div>"
   ]
  },
  {
   "cell_type": "markdown",
   "id": "a4add815-c2da-4d18-b62d-8b72f817715c",
   "metadata": {},
   "source": [
    "***"
   ]
  },
  {
   "cell_type": "markdown",
   "id": "612ad599",
   "metadata": {},
   "source": [
    "<div style='background-color:#f0f0f0; padding:10px; border-radius:5px;'>\n",
    "    <h3>Step 1: Create an Amazon Bedrock Knowledge Base</h3>\n",
    "    <p>Follow the steps in the workshop to create an Amazon Bedrock Knowledge Base.</p>\n",
    "</div>"
   ]
  },
  {
   "cell_type": "markdown",
   "id": "dce34679",
   "metadata": {},
   "source": [
    "<div style='background-color:#f0f0f0; padding:10px; border-radius:5px;'>\n",
    "    <h3>Step 2: Upload password policy and sync data store.</h3>\n",
    "    <p>Follow the steps in the workshop to upload a password policy markdown file and sync data store.</p>\n",
    "</div>"
   ]
  },
  {
   "cell_type": "markdown",
   "id": "b1c977b7-351c-44cd-ad1c-9bef73d3157b",
   "metadata": {},
   "source": [
    "<div style='background-color:#f0f0f0; padding:10px; border-radius:5px;'>\n",
    "    <h3>Step 3: Get a finding from Security Hub</h3>\n",
    "    <p>In this step, you will get a failed finding from Security Hub. In this example, we use the AWS SDK for Python (boto3) to access the Security Hub API.</p>\n",
    "    <p>The Python function will return a JSON representation of the finding. You can also view this finding by visiting Security Hub in the AWS console.</p>\n",
    "</div>"
   ]
  },
  {
   "cell_type": "code",
   "execution_count": 1,
   "id": "86b40647-9eb8-4b5c-b437-8e8af4615f2e",
   "metadata": {
    "tags": []
   },
   "outputs": [
    {
     "name": "stdout",
     "output_type": "stream",
     "text": [
      "[{'SchemaVersion': '2018-10-08', 'Id': 'arn:aws:securityhub:us-west-2:891377287399:security-control/IAM.15/finding/5daa18ea-d6eb-4f41-94c5-82fb30632b9e', 'ProductArn': 'arn:aws:securityhub:us-west-2::product/aws/securityhub', 'ProductName': 'Security Hub', 'CompanyName': 'AWS', 'Region': 'us-west-2', 'GeneratorId': 'security-control/IAM.15', 'AwsAccountId': '891377287399', 'Types': ['Software and Configuration Checks/Industry and Regulatory Standards'], 'FirstObservedAt': '2025-05-20T17:53:01.802Z', 'LastObservedAt': '2025-05-20T17:53:01.802Z', 'CreatedAt': '2025-05-20T17:53:12.568Z', 'UpdatedAt': '2025-05-20T17:53:12.568Z', 'Severity': {'Label': 'MEDIUM', 'Normalized': 40, 'Original': 'MEDIUM'}, 'Title': 'Ensure IAM password policy requires minimum password length of 14 or greater', 'Description': 'Password policies are, in part, used to enforce password complexity requirements. IAM password policies can be used to ensure passwords are at least a given length. It is recommended that the password policy require a minimum password length 14.', 'Remediation': {'Recommendation': {'Text': 'For information on how to correct this issue, consult the AWS Security Hub controls documentation.', 'Url': 'https://docs.aws.amazon.com/console/securityhub/IAM.15/remediation'}}, 'ProductFields': {'RelatedAWSResources:0/name': 'securityhub-iam-password-policy-minimum-length-check-fc866e7f', 'RelatedAWSResources:0/type': 'AWS::Config::ConfigRule', 'aws/securityhub/ProductName': 'Security Hub', 'aws/securityhub/CompanyName': 'AWS', 'Resources:0/Id': 'arn:aws:iam::891377287399:root', 'aws/securityhub/FindingId': 'arn:aws:securityhub:us-west-2::product/aws/securityhub/arn:aws:securityhub:us-west-2:891377287399:security-control/IAM.15/finding/5daa18ea-d6eb-4f41-94c5-82fb30632b9e'}, 'Resources': [{'Type': 'AwsAccount', 'Id': 'AWS::::Account:891377287399', 'Partition': 'aws', 'Region': 'us-west-2'}], 'Compliance': {'Status': 'FAILED', 'RelatedRequirements': ['CIS AWS Foundations Benchmark v1.2.0/1.9', 'CIS AWS Foundations Benchmark v1.4.0/1.8'], 'SecurityControlId': 'IAM.15', 'AssociatedStandards': [{'StandardsId': 'ruleset/cis-aws-foundations-benchmark/v/1.2.0'}, {'StandardsId': 'standards/cis-aws-foundations-benchmark/v/1.4.0'}]}, 'WorkflowState': 'NEW', 'Workflow': {'Status': 'NEW'}, 'RecordState': 'ACTIVE', 'FindingProviderFields': {'Severity': {'Label': 'MEDIUM', 'Original': 'MEDIUM'}, 'Types': ['Software and Configuration Checks/Industry and Regulatory Standards']}, 'ProcessedAt': '2025-05-20T17:53:44.493Z'}]\n"
     ]
    }
   ],
   "source": [
    "# Python code from Module 1. Update to search for `Ensure IAM password policy\n",
    "# requires minimum password length of 14 or greater [IAM.15]`\n",
    "\n",
    "import boto3\n",
    "\n",
    "sh = boto3.client('securityhub')\n",
    "\n",
    "\n",
    "def get_finding(finding_id):\n",
    "    response = sh.get_findings(\n",
    "        Filters={\n",
    "                'ComplianceSecurityControlId': [\n",
    "                    {\n",
    "                        'Value': finding_id,\n",
    "                        'Comparison': 'EQUALS'\n",
    "                    }\n",
    "                ],\n",
    "                'ComplianceStatus':[\n",
    "                    {\n",
    "                        'Value': 'FAILED',\n",
    "                        'Comparison': 'EQUALS'\n",
    "                    }\n",
    "                ]\n",
    "            },\n",
    "        MaxResults=1\n",
    "\n",
    "    )\n",
    "    return response['Findings']\n",
    "\n",
    "\n",
    "######\n",
    "# Update get_finding(\"XXX\") with IAM.15\n",
    "######\n",
    "\n",
    "sh_finding = get_finding(\"XXX\")\n",
    "\n",
    "######\n",
    "\n",
    "print(sh_finding)"
   ]
  },
  {
   "cell_type": "markdown",
   "id": "220951a9-7d31-4f08-80e3-a27ceba55aa7",
   "metadata": {},
   "source": [
    "<div style='background-color:#f0f0f0; padding:10px; border-radius:5px;'>\n",
    "    <h3>Step 4: Summarize the finding using Claude 3 and an Amazon Bedrock Knowledge Base</h3>\n",
    "    <p>In this step, you will use the boto3 retrieve and generate API, to prompt Claude to use the Knowledge Base.</p>\n",
    "</div>"
   ]
  },
  {
   "cell_type": "markdown",
   "id": "b74047b7-935d-4598-b682-77d6a7df1983",
   "metadata": {
    "tags": []
   },
   "source": [
    "<div class=\"alert alert-block alert-warning\">\n",
    "<b>Action required:</b> Before continuing with this notebook, you must get the Knowledge Base ID from the console, and upload the password policy document.\n",
    "</div>"
   ]
  },
  {
   "cell_type": "code",
   "execution_count": null,
   "id": "8adb3c9d-eab6-4827-b1e2-79940883a2fc",
   "metadata": {
    "tags": []
   },
   "outputs": [],
   "source": [
    "# Update the knowledge_base_id with the Knowledge Base ID from the \n",
    "# Amazon Bedrock console.\n",
    "\n",
    "######\n",
    "# Update with the Knowledge Base ID from the console.\n",
    "######\n",
    "\n",
    "knowledge_base_id = \"D0TEXAMPLE\"\n",
    "\n",
    "######\n",
    "\n",
    "modelId = \"us.anthropic.claude-3-7-sonnet-20250219-v1:0\"\n",
    "bedrock_agent_runtime_client = boto3.client('bedrock-agent-runtime')\n",
    "\n",
    "\n",
    "def retrieve_and_generate(prompt):\n",
    "\n",
    "    retrieve_and_generate_api_params = {\n",
    "        \"input\": {\n",
    "            \"text\": prompt\n",
    "        },\n",
    "        \"retrieveAndGenerateConfiguration\": {\n",
    "            \"type\": \"KNOWLEDGE_BASE\",\n",
    "            \"knowledgeBaseConfiguration\": {\n",
    "                \"knowledgeBaseId\": knowledge_base_id,\n",
    "                \"modelArn\": modelId,\n",
    "                \"generationConfiguration\": {\n",
    "                    \"inferenceConfig\": {\n",
    "                        \"textInferenceConfig\": {\n",
    "                            \"temperature\": 0\n",
    "                        }\n",
    "                    }\n",
    "                },\n",
    "                \"retrievalConfiguration\": {\n",
    "                    \"vectorSearchConfiguration\": {\n",
    "                        \"numberOfResults\": 5\n",
    "                    }\n",
    "                }\n",
    "            }\n",
    "        }\n",
    "    }\n",
    "\n",
    "    response = bedrock_agent_runtime_client.retrieve_and_generate(**retrieve_and_generate_api_params)\n",
    "    return response\n",
    "\n",
    "\n",
    "print(\"Retrieve and generate function defined.\")"
   ]
  },
  {
   "cell_type": "markdown",
   "id": "58c4f030-6f4a-4a59-aa2c-07b78e4fa411",
   "metadata": {},
   "source": [
    "<div style='background-color:#f0f0f0; padding:10px; border-radius:5px;'>\n",
    "    <p>After loading the function, you can create your first prompt.</p>\n",
    "</div>"
   ]
  },
  {
   "cell_type": "code",
   "execution_count": null,
   "id": "ccbefb5a-1c2a-49fa-b4a1-b9f03c024b85",
   "metadata": {
    "tags": []
   },
   "outputs": [],
   "source": [
    "# Ask Claude 3.7 Sonnet to summarize the finding and refer to the security\n",
    "# policy in the knowledge base to provide a recommendation.\n",
    "\n",
    "prompt = f\"\"\"\n",
    "Summarize the finding, and cite appropriate security policy to remediate\n",
    "the finding to meet the security policy.\n",
    "\n",
    "<finding>\n",
    "{sh_finding}\n",
    "</finding>\n",
    "\n",
    "\"\"\"\n",
    "\n",
    "results = retrieve_and_generate(prompt)\n",
    "\n",
    "print(f\"Response: {results['output']['text']}\\n\")\n",
    "print(f\"Citation: {results['citations'][0]['retrievedReferences'][0]['content']['text']}\\n\")\n",
    "print(f\"Location: {results['citations'][0]['retrievedReferences'][0]['location']['s3Location']['uri']}\\n\")"
   ]
  },
  {
   "cell_type": "markdown",
   "id": "edfd3a35-44f7-43fd-aa32-e32e17a0b145",
   "metadata": {
    "tags": []
   },
   "source": [
    "<div style='background-color:#f0f0f0; padding:10px; border-radius:5px;'>\n",
    "    <h3>Step 5: Use results to get remediation actions</h3>\n",
    "    <p>In this step, you will use the boto3 converse, to prompt Claude to generate sample code to remediate.</p>\n",
    "</div>"
   ]
  },
  {
   "cell_type": "code",
   "execution_count": null,
   "id": "dc42a964-d529-412c-91be-cae062f37820",
   "metadata": {
    "tags": []
   },
   "outputs": [],
   "source": [
    "bedrock_client = boto3.client(service_name='bedrock-runtime')\n",
    "inference_config = {\"temperature\": 0}\n",
    "\n",
    "\n",
    "def get_completion(prompt):\n",
    "\n",
    "    # Create the converse method parameters\n",
    "    converse_api_params = {\n",
    "        \"modelId\": modelId,\n",
    "        \"messages\": [{\"role\": \"user\", \"content\": [{\"text\": prompt}]}],\n",
    "        \"inferenceConfig\": inference_config,\n",
    "    }\n",
    "\n",
    "    response = bedrock_client.converse(**converse_api_params)\n",
    "\n",
    "    return response['output']['message']['content'][0]['text']\n",
    "\n",
    "\n",
    "print(\"Get completion function defined.\")"
   ]
  },
  {
   "cell_type": "code",
   "execution_count": null,
   "id": "9be28972-85ff-4514-92fd-d304293148f4",
   "metadata": {
    "tags": []
   },
   "outputs": [],
   "source": [
    "# In this prompt we state not to remediate anything else. In testing, Claude\n",
    "# would consider the rest of the citation from the previous step and remediate\n",
    "# several password polices requirements.\n",
    "\n",
    "prompt = f\"\"\"\n",
    "    Review the finding and security policy. Create a minimal Python function\n",
    "    called remediate_password_policy to remediate the finding to align\n",
    "    with the organization security policy. Include example usage.\n",
    "    Do not remediate anything else.\n",
    "\n",
    "    <finding>\n",
    "    {results['output']['text']}\n",
    "    </finding>\n",
    "\n",
    "\"\"\"\n",
    "\n",
    "response = get_completion(prompt)\n",
    "\n",
    "print(response)"
   ]
  },
  {
   "cell_type": "markdown",
   "id": "4dc49824-824b-412c-bb91-226d90c8243f",
   "metadata": {},
   "source": [
    "<div style='background-color:#f0f0f0; padding:10px; border-radius:5px;'>\n",
    "    <h3>Step 6: Remediate the finding</h3>\n",
    "    <p>In this step, you will use the sample code created by Claude 3.7 Sonnet to remediate the finding.</p>\n",
    "    <p>Carefully review the function. Once you are familiar with how it works, run the function to update the IAM password policy to require a minimum of 64 characters.</p>\n",
    "</div>"
   ]
  },
  {
   "cell_type": "code",
   "execution_count": null,
   "id": "13c87e8e-d7cb-49ef-b23f-63ff23069c6e",
   "metadata": {
    "tags": []
   },
   "outputs": [],
   "source": [
    "# Replace the text in this cell with the function you created in step 3.\n",
    "# Your function may be slightly different. Generative AI responses are non deterministic.\n",
    "\n",
    "import boto3\n",
    "\n",
    "def remediate_password_policy():\n",
    "    \"\"\"\n",
    "    Remediate the IAM password policy finding by setting the minimum password \n",
    "    length to 64 characters as required by the security policy.\n",
    "    \"\"\"\n",
    "    try:\n",
    "        # Create IAM client\n",
    "        iam_client = boto3.client('iam')\n",
    "\n",
    "        # Update the account password policy to require minimum length of 64 characters\n",
    "        response = iam_client.update_account_password_policy(\n",
    "            MinimumPasswordLength=64,  # Set minimum password length to 64 characters\n",
    "            # Keeping other password policy settings unchanged\n",
    "            # If you need to modify other settings, they would be added here\n",
    "        )\n",
    "\n",
    "        print(\"Successfully updated IAM password policy to require minimum length of 64 characters\")\n",
    "        return True\n",
    "\n",
    "    except Exception as e:\n",
    "        print(f\"Error updating IAM password policy: {str(e)}\")\n",
    "        return False\n",
    "\n",
    "\n",
    "# Example usage\n",
    "if __name__ == \"__main__\":\n",
    "    remediate_password_policy()"
   ]
  }
 ],
 "metadata": {
  "kernelspec": {
   "display_name": "conda_python3",
   "language": "python",
   "name": "conda_python3"
  },
  "language_info": {
   "codemirror_mode": {
    "name": "ipython",
    "version": 3
   },
   "file_extension": ".py",
   "mimetype": "text/x-python",
   "name": "python",
   "nbconvert_exporter": "python",
   "pygments_lexer": "ipython3",
   "version": "3.10.17"
  }
 },
 "nbformat": 4,
 "nbformat_minor": 5
}
